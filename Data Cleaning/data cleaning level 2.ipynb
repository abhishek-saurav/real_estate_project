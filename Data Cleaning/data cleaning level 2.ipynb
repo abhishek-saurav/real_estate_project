{
 "cells": [
  {
   "cell_type": "markdown",
   "metadata": {},
   "source": [
    "1. Importing libraries "
   ]
  },
  {
   "cell_type": "code",
   "execution_count": 1,
   "metadata": {},
   "outputs": [],
   "source": [
    "import numpy as np, pandas as pd, os"
   ]
  },
  {
   "cell_type": "markdown",
   "metadata": {},
   "source": [
    "2. Reading the data "
   ]
  },
  {
   "cell_type": "code",
   "execution_count": 2,
   "metadata": {},
   "outputs": [],
   "source": [
    "PROJECT_DIR  = \"/Users/abhisheksaurav/Desktop/real_estate_project/\"\n",
    "DATA_DIR = \"Data Collection/Data/City/chandigarh/cleaned_data\""
   ]
  },
  {
   "cell_type": "code",
   "execution_count": 3,
   "metadata": {},
   "outputs": [],
   "source": [
    "def get_data(name):\n",
    "    file_name = \"{}.csv\".format(name)\n",
    "    file_path = os.path.join(PROJECT_DIR, DATA_DIR, file_name)\n",
    "    return pd.read_csv(file_path)"
   ]
  },
  {
   "cell_type": "code",
   "execution_count": 4,
   "metadata": {},
   "outputs": [],
   "source": [
    "df = get_data(\"merged_data\")"
   ]
  },
  {
   "cell_type": "code",
   "execution_count": 5,
   "metadata": {},
   "outputs": [
    {
     "data": {
      "text/html": [
       "<div>\n",
       "<style scoped>\n",
       "    .dataframe tbody tr th:only-of-type {\n",
       "        vertical-align: middle;\n",
       "    }\n",
       "\n",
       "    .dataframe tbody tr th {\n",
       "        vertical-align: top;\n",
       "    }\n",
       "\n",
       "    .dataframe thead th {\n",
       "        text-align: right;\n",
       "    }\n",
       "</style>\n",
       "<table border=\"1\" class=\"dataframe\">\n",
       "  <thead>\n",
       "    <tr style=\"text-align: right;\">\n",
       "      <th></th>\n",
       "      <th>property_name</th>\n",
       "      <th>property type</th>\n",
       "      <th>society</th>\n",
       "      <th>price</th>\n",
       "      <th>price_per_sq_ft</th>\n",
       "      <th>area</th>\n",
       "      <th>areaWithType</th>\n",
       "      <th>bedRoom</th>\n",
       "      <th>bathroom</th>\n",
       "      <th>balcony</th>\n",
       "      <th>additionalRoom</th>\n",
       "      <th>address</th>\n",
       "      <th>floorNum</th>\n",
       "      <th>facing</th>\n",
       "      <th>agePossession</th>\n",
       "      <th>nearbyLocations</th>\n",
       "      <th>description</th>\n",
       "      <th>furnishDetails</th>\n",
       "      <th>features</th>\n",
       "      <th>rating</th>\n",
       "    </tr>\n",
       "  </thead>\n",
       "  <tbody>\n",
       "    <tr>\n",
       "      <th>0</th>\n",
       "      <td>3 BHK Flat in Sector 109 Gurgaon</td>\n",
       "      <td>flat</td>\n",
       "      <td>ats kocoon</td>\n",
       "      <td>1.70</td>\n",
       "      <td>9742.0</td>\n",
       "      <td>1745.0</td>\n",
       "      <td>Super Built up area 1745(162.12 sq.m.)Built Up...</td>\n",
       "      <td>3</td>\n",
       "      <td>3</td>\n",
       "      <td>3</td>\n",
       "      <td>not available</td>\n",
       "      <td>Sector 109 Gurgaon, Gurgaon, Haryana</td>\n",
       "      <td>22.0</td>\n",
       "      <td>east</td>\n",
       "      <td>1 to 5 Year Old</td>\n",
       "      <td>['Jagdish Super Market', 'Dwarka', 'Euro Inter...</td>\n",
       "      <td>This is a north-East facing ready to move-In 1...</td>\n",
       "      <td>['1 Modular Kitchen', 'No AC', 'No Bed', 'No C...</td>\n",
       "      <td>['Security / Fire Alarm', 'Intercom Facility',...</td>\n",
       "      <td>['Green Area5 out of 5', 'Construction5 out of...</td>\n",
       "    </tr>\n",
       "    <tr>\n",
       "      <th>1</th>\n",
       "      <td>2 Bedroom House for sale in Sector 36 Sohna</td>\n",
       "      <td>house</td>\n",
       "      <td>independent</td>\n",
       "      <td>0.66</td>\n",
       "      <td>7168.0</td>\n",
       "      <td>921.0</td>\n",
       "      <td>Built Up area: 823 (76.46 sq.m.)</td>\n",
       "      <td>2</td>\n",
       "      <td>2</td>\n",
       "      <td>3</td>\n",
       "      <td>not available</td>\n",
       "      <td>Signature Global Park Iii, Sector 36 Sohna, Gu...</td>\n",
       "      <td>4.0</td>\n",
       "      <td>NaN</td>\n",
       "      <td>0 to 1 Year Old</td>\n",
       "      <td>NaN</td>\n",
       "      <td>Corner unit &amp; 2 bhk independent floor for sale...</td>\n",
       "      <td>NaN</td>\n",
       "      <td>NaN</td>\n",
       "      <td>NaN</td>\n",
       "    </tr>\n",
       "    <tr>\n",
       "      <th>2</th>\n",
       "      <td>2 BHK Flat in Sohna</td>\n",
       "      <td>flat</td>\n",
       "      <td>gls arawali homes</td>\n",
       "      <td>0.28</td>\n",
       "      <td>4938.0</td>\n",
       "      <td>567.0</td>\n",
       "      <td>Super Built up area 567(52.68 sq.m.)Built Up a...</td>\n",
       "      <td>2</td>\n",
       "      <td>2</td>\n",
       "      <td>2</td>\n",
       "      <td>not available</td>\n",
       "      <td>Sohna, Gurgaon, Haryana</td>\n",
       "      <td>3.0</td>\n",
       "      <td>east</td>\n",
       "      <td>1 to 5 Year Old</td>\n",
       "      <td>['Huda City Centre', 'Golf Course Road', 'Delh...</td>\n",
       "      <td>Greenary area with parks and walking area whic...</td>\n",
       "      <td>['3 Fan', '1 Exhaust Fan', '4 Light', '2 Curta...</td>\n",
       "      <td>['Feng Shui / Vaastu Compliant', 'Security / F...</td>\n",
       "      <td>['Management4 out of 5', 'Green Area5 out of 5...</td>\n",
       "    </tr>\n",
       "    <tr>\n",
       "      <th>3</th>\n",
       "      <td>1 BHK Flat in Sector 36 Gurgaon</td>\n",
       "      <td>flat</td>\n",
       "      <td>breez global heights</td>\n",
       "      <td>0.24</td>\n",
       "      <td>5825.0</td>\n",
       "      <td>412.0</td>\n",
       "      <td>Carpet area: 412 (38.28 sq.m.)</td>\n",
       "      <td>1</td>\n",
       "      <td>1</td>\n",
       "      <td>1</td>\n",
       "      <td>not available</td>\n",
       "      <td>Sector 36 Gurgaon, Gurgaon, Haryana</td>\n",
       "      <td>8.0</td>\n",
       "      <td>na</td>\n",
       "      <td>0 to 1 Year Old</td>\n",
       "      <td>['S.R.S. Hospital and Critical Care Unit', 'Sh...</td>\n",
       "      <td>Residential apartment for sell.The property ha...</td>\n",
       "      <td>['1 Wardrobe', '2 Fan', '1 Exhaust Fan', '5 Li...</td>\n",
       "      <td>['Feng Shui / Vaastu Compliant', 'Intercom Fac...</td>\n",
       "      <td>NaN</td>\n",
       "    </tr>\n",
       "    <tr>\n",
       "      <th>4</th>\n",
       "      <td>6 Bedroom House for sale in Sector 46 Gurgaon</td>\n",
       "      <td>house</td>\n",
       "      <td>rwa sector 46</td>\n",
       "      <td>4.50</td>\n",
       "      <td>24390.0</td>\n",
       "      <td>1845.0</td>\n",
       "      <td>Plot area 204(170.57 sq.m.)Built Up area: 206 ...</td>\n",
       "      <td>6</td>\n",
       "      <td>6</td>\n",
       "      <td>3+</td>\n",
       "      <td>store room</td>\n",
       "      <td>8 Marla Built Up As Bmt, Gf,ff, 6bhk Demand-4....</td>\n",
       "      <td>3.0</td>\n",
       "      <td>North-East</td>\n",
       "      <td>5 to 10 Year Old</td>\n",
       "      <td>['Axis bank ATM', 'State bank of india ATM', '...</td>\n",
       "      <td>Looking for a independent house in gurgaon's p...</td>\n",
       "      <td>['5 Wardrobe', '1 Water Purifier', '13 Fan', '...</td>\n",
       "      <td>['Private Garden / Terrace', 'High Ceiling Hei...</td>\n",
       "      <td>['Environment4 out of 5', 'Safety4 out of 5', ...</td>\n",
       "    </tr>\n",
       "  </tbody>\n",
       "</table>\n",
       "</div>"
      ],
      "text/plain": [
       "                                   property_name property type  \\\n",
       "0               3 BHK Flat in Sector 109 Gurgaon          flat   \n",
       "1    2 Bedroom House for sale in Sector 36 Sohna         house   \n",
       "2                            2 BHK Flat in Sohna          flat   \n",
       "3                1 BHK Flat in Sector 36 Gurgaon          flat   \n",
       "4  6 Bedroom House for sale in Sector 46 Gurgaon         house   \n",
       "\n",
       "                society  price  price_per_sq_ft    area  \\\n",
       "0            ats kocoon   1.70           9742.0  1745.0   \n",
       "1           independent   0.66           7168.0   921.0   \n",
       "2     gls arawali homes   0.28           4938.0   567.0   \n",
       "3  breez global heights   0.24           5825.0   412.0   \n",
       "4         rwa sector 46   4.50          24390.0  1845.0   \n",
       "\n",
       "                                        areaWithType  bedRoom  bathroom  \\\n",
       "0  Super Built up area 1745(162.12 sq.m.)Built Up...        3         3   \n",
       "1                   Built Up area: 823 (76.46 sq.m.)        2         2   \n",
       "2  Super Built up area 567(52.68 sq.m.)Built Up a...        2         2   \n",
       "3                     Carpet area: 412 (38.28 sq.m.)        1         1   \n",
       "4  Plot area 204(170.57 sq.m.)Built Up area: 206 ...        6         6   \n",
       "\n",
       "  balcony additionalRoom                                            address  \\\n",
       "0       3  not available               Sector 109 Gurgaon, Gurgaon, Haryana   \n",
       "1       3  not available  Signature Global Park Iii, Sector 36 Sohna, Gu...   \n",
       "2       2  not available                            Sohna, Gurgaon, Haryana   \n",
       "3       1  not available                Sector 36 Gurgaon, Gurgaon, Haryana   \n",
       "4      3+     store room  8 Marla Built Up As Bmt, Gf,ff, 6bhk Demand-4....   \n",
       "\n",
       "   floorNum      facing     agePossession  \\\n",
       "0      22.0        east   1 to 5 Year Old   \n",
       "1       4.0         NaN   0 to 1 Year Old   \n",
       "2       3.0        east   1 to 5 Year Old   \n",
       "3       8.0          na   0 to 1 Year Old   \n",
       "4       3.0  North-East  5 to 10 Year Old   \n",
       "\n",
       "                                     nearbyLocations  \\\n",
       "0  ['Jagdish Super Market', 'Dwarka', 'Euro Inter...   \n",
       "1                                                NaN   \n",
       "2  ['Huda City Centre', 'Golf Course Road', 'Delh...   \n",
       "3  ['S.R.S. Hospital and Critical Care Unit', 'Sh...   \n",
       "4  ['Axis bank ATM', 'State bank of india ATM', '...   \n",
       "\n",
       "                                         description  \\\n",
       "0  This is a north-East facing ready to move-In 1...   \n",
       "1  Corner unit & 2 bhk independent floor for sale...   \n",
       "2  Greenary area with parks and walking area whic...   \n",
       "3  Residential apartment for sell.The property ha...   \n",
       "4  Looking for a independent house in gurgaon's p...   \n",
       "\n",
       "                                      furnishDetails  \\\n",
       "0  ['1 Modular Kitchen', 'No AC', 'No Bed', 'No C...   \n",
       "1                                                NaN   \n",
       "2  ['3 Fan', '1 Exhaust Fan', '4 Light', '2 Curta...   \n",
       "3  ['1 Wardrobe', '2 Fan', '1 Exhaust Fan', '5 Li...   \n",
       "4  ['5 Wardrobe', '1 Water Purifier', '13 Fan', '...   \n",
       "\n",
       "                                            features  \\\n",
       "0  ['Security / Fire Alarm', 'Intercom Facility',...   \n",
       "1                                                NaN   \n",
       "2  ['Feng Shui / Vaastu Compliant', 'Security / F...   \n",
       "3  ['Feng Shui / Vaastu Compliant', 'Intercom Fac...   \n",
       "4  ['Private Garden / Terrace', 'High Ceiling Hei...   \n",
       "\n",
       "                                              rating  \n",
       "0  ['Green Area5 out of 5', 'Construction5 out of...  \n",
       "1                                                NaN  \n",
       "2  ['Management4 out of 5', 'Green Area5 out of 5...  \n",
       "3                                                NaN  \n",
       "4  ['Environment4 out of 5', 'Safety4 out of 5', ...  "
      ]
     },
     "execution_count": 5,
     "metadata": {},
     "output_type": "execute_result"
    }
   ],
   "source": [
    "df.head()"
   ]
  },
  {
   "cell_type": "markdown",
   "metadata": {},
   "source": [
    "3. Preliminary analysis of the data "
   ]
  },
  {
   "cell_type": "code",
   "execution_count": 10,
   "metadata": {},
   "outputs": [
    {
     "data": {
      "text/plain": [
       "(3942, 20)"
      ]
     },
     "execution_count": 10,
     "metadata": {},
     "output_type": "execute_result"
    }
   ],
   "source": [
    "(\n",
    "    df \n",
    "    .shape\n",
    ")"
   ]
  },
  {
   "cell_type": "code",
   "execution_count": 11,
   "metadata": {},
   "outputs": [
    {
     "name": "stdout",
     "output_type": "stream",
     "text": [
      "<class 'pandas.core.frame.DataFrame'>\n",
      "RangeIndex: 3942 entries, 0 to 3941\n",
      "Data columns (total 20 columns):\n",
      " #   Column           Non-Null Count  Dtype  \n",
      "---  ------           --------------  -----  \n",
      " 0   property_name    3942 non-null   object \n",
      " 1   property type    3942 non-null   object \n",
      " 2   society          3941 non-null   object \n",
      " 3   price            3922 non-null   float64\n",
      " 4   price_per_sq_ft  3922 non-null   float64\n",
      " 5   area             3922 non-null   float64\n",
      " 6   areaWithType     3942 non-null   object \n",
      " 7   bedRoom          3942 non-null   int64  \n",
      " 8   bathroom         3942 non-null   int64  \n",
      " 9   balcony          3942 non-null   object \n",
      " 10  additionalRoom   3942 non-null   object \n",
      " 11  address          3931 non-null   object \n",
      " 12  floorNum         3940 non-null   float64\n",
      " 13  facing           3651 non-null   object \n",
      " 14  agePossession    3941 non-null   object \n",
      " 15  nearbyLocations  3736 non-null   object \n",
      " 16  description      3942 non-null   object \n",
      " 17  furnishDetails   2913 non-null   object \n",
      " 18  features         3241 non-null   object \n",
      " 19  rating           3496 non-null   object \n",
      "dtypes: float64(4), int64(2), object(14)\n",
      "memory usage: 616.1+ KB\n"
     ]
    }
   ],
   "source": [
    "(\n",
    "    df \n",
    "    .info()\n",
    ")"
   ]
  },
  {
   "cell_type": "code",
   "execution_count": 12,
   "metadata": {},
   "outputs": [
    {
     "data": {
      "text/plain": [
       "property_name         0\n",
       "property type         0\n",
       "society               1\n",
       "price                20\n",
       "price_per_sq_ft      20\n",
       "area                 20\n",
       "areaWithType          0\n",
       "bedRoom               0\n",
       "bathroom              0\n",
       "balcony               0\n",
       "additionalRoom        0\n",
       "address              11\n",
       "floorNum              2\n",
       "facing              291\n",
       "agePossession         1\n",
       "nearbyLocations     206\n",
       "description           0\n",
       "furnishDetails     1029\n",
       "features            701\n",
       "rating              446\n",
       "dtype: int64"
      ]
     },
     "execution_count": 12,
     "metadata": {},
     "output_type": "execute_result"
    }
   ],
   "source": [
    "(\n",
    "    df \n",
    "    .isnull() \n",
    "    .sum()\n",
    ")"
   ]
  },
  {
   "cell_type": "markdown",
   "metadata": {},
   "source": [
    "4. Detailed analysis"
   ]
  },
  {
   "cell_type": "markdown",
   "metadata": {},
   "source": [
    "5. Data cleaning"
   ]
  },
  {
   "cell_type": "code",
   "execution_count": null,
   "metadata": {},
   "outputs": [],
   "source": [
    "def clean_data(data):\n",
    "    return df (\n",
    "\n",
    "        \n",
    "    )"
   ]
  }
 ],
 "metadata": {
  "kernelspec": {
   "display_name": "my_env",
   "language": "python",
   "name": "python3"
  },
  "language_info": {
   "codemirror_mode": {
    "name": "ipython",
    "version": 3
   },
   "file_extension": ".py",
   "mimetype": "text/x-python",
   "name": "python",
   "nbconvert_exporter": "python",
   "pygments_lexer": "ipython3",
   "version": "3.11.4"
  }
 },
 "nbformat": 4,
 "nbformat_minor": 2
}
