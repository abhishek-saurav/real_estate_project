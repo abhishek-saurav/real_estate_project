{
 "cells": [
  {
   "cell_type": "markdown",
   "metadata": {},
   "source": [
    "1. Importing libraries "
   ]
  },
  {
   "cell_type": "code",
   "execution_count": 73,
   "metadata": {},
   "outputs": [],
   "source": [
    "import re, numpy as np, pandas as pd, matplotlib.pyplot as plt, seaborn as sns, os "
   ]
  },
  {
   "cell_type": "markdown",
   "metadata": {},
   "source": [
    "Setting display options"
   ]
  },
  {
   "cell_type": "code",
   "execution_count": 74,
   "metadata": {},
   "outputs": [],
   "source": [
    "pd.set_option(\"display.max_rows\", None)\n",
    "pd.set_option(\"display.max_columns\", None)\n",
    "pd.set_option(\"display.max_colwidth\", None)"
   ]
  },
  {
   "cell_type": "markdown",
   "metadata": {},
   "source": [
    "2. Reading the data "
   ]
  },
  {
   "cell_type": "code",
   "execution_count": 75,
   "metadata": {},
   "outputs": [],
   "source": [
    "PROJECT_DIR  = \"/Users/abhisheksaurav/Desktop/real_estate_project/\"\n",
    "DATA_DIR = \"Data Collection/Data/City/chandigarh/cleaned_data\""
   ]
  },
  {
   "cell_type": "code",
   "execution_count": 76,
   "metadata": {},
   "outputs": [],
   "source": [
    "def get_data(name):\n",
    "    file_name = \"{}.csv\".format(name)\n",
    "    file_path = os.path.join(PROJECT_DIR, DATA_DIR, file_name)\n",
    "    return pd.read_csv(file_path)"
   ]
  },
  {
   "cell_type": "code",
   "execution_count": 77,
   "metadata": {},
   "outputs": [],
   "source": [
    "df = get_data(\"gurgaon_properties_cleaned_v1\")"
   ]
  },
  {
   "cell_type": "code",
   "execution_count": 78,
   "metadata": {},
   "outputs": [
    {
     "data": {
      "text/html": [
       "<div>\n",
       "<style scoped>\n",
       "    .dataframe tbody tr th:only-of-type {\n",
       "        vertical-align: middle;\n",
       "    }\n",
       "\n",
       "    .dataframe tbody tr th {\n",
       "        vertical-align: top;\n",
       "    }\n",
       "\n",
       "    .dataframe thead th {\n",
       "        text-align: right;\n",
       "    }\n",
       "</style>\n",
       "<table border=\"1\" class=\"dataframe\">\n",
       "  <thead>\n",
       "    <tr style=\"text-align: right;\">\n",
       "      <th></th>\n",
       "      <th>property type</th>\n",
       "      <th>society</th>\n",
       "      <th>sector</th>\n",
       "      <th>price</th>\n",
       "      <th>price_per_sq_ft</th>\n",
       "      <th>area</th>\n",
       "      <th>areaWithType</th>\n",
       "      <th>bedRoom</th>\n",
       "      <th>bathroom</th>\n",
       "      <th>balcony</th>\n",
       "      <th>additionalRoom</th>\n",
       "      <th>floorNum</th>\n",
       "      <th>facing</th>\n",
       "      <th>agePossession</th>\n",
       "      <th>nearbyLocations</th>\n",
       "      <th>furnishDetails</th>\n",
       "      <th>features</th>\n",
       "    </tr>\n",
       "  </thead>\n",
       "  <tbody>\n",
       "    <tr>\n",
       "      <th>0</th>\n",
       "      <td>flat</td>\n",
       "      <td>ats kocoon</td>\n",
       "      <td>sector 109</td>\n",
       "      <td>1.7</td>\n",
       "      <td>9742.0</td>\n",
       "      <td>1745.0</td>\n",
       "      <td>Super Built up area 1745(162.12 sq.m.)Built Up area: 1550 sq.ft. (144 sq.m.)</td>\n",
       "      <td>3</td>\n",
       "      <td>3</td>\n",
       "      <td>3</td>\n",
       "      <td>not available</td>\n",
       "      <td>22.0</td>\n",
       "      <td>east</td>\n",
       "      <td>1 to 5 Year Old</td>\n",
       "      <td>['Jagdish Super Market', 'Dwarka', 'Euro International School', 'Gyaananda School', 'SCR Model School', 'Radha Krishan Mandir', 'ICICI BANK ATM, Annapurna MKT', 'ESIC Dispensary', 'IGIA Airport', 'Canara Bank New Palam Vihar', 'Gurgaon Gramin Bank', 'Daultabad Stadium', 'Bharat Petroleum Shree Shyam Filling', 'The Club, International City', 'Conscient One']</td>\n",
       "      <td>['1 Modular Kitchen', 'No AC', 'No Bed', 'No Chimney', 'No Curtains', 'No Dining Table', 'No Exhaust Fan', 'No Fan', 'No Geyser', 'No Light', 'No Microwave', 'No Fridge', 'No Sofa', 'No Stove', 'No TV', 'No Wardrobe', 'No Washing Machine', 'No Water Purifier']</td>\n",
       "      <td>['Security / Fire Alarm', 'Intercom Facility', 'Lift(s)', 'Maintenance Staff', 'Swimming Pool', 'Water Storage', 'Park', 'Visitor Parking', 'Internet/wi-fi connectivity', 'Shopping Centre', 'Fitness Centre / GYM', 'Club house / Community Center']</td>\n",
       "    </tr>\n",
       "  </tbody>\n",
       "</table>\n",
       "</div>"
      ],
      "text/plain": [
       "  property type     society      sector  price  price_per_sq_ft    area  \\\n",
       "0          flat  ats kocoon  sector 109    1.7           9742.0  1745.0   \n",
       "\n",
       "                                                                   areaWithType  \\\n",
       "0  Super Built up area 1745(162.12 sq.m.)Built Up area: 1550 sq.ft. (144 sq.m.)   \n",
       "\n",
       "   bedRoom  bathroom balcony additionalRoom  floorNum facing    agePossession  \\\n",
       "0        3         3       3  not available      22.0   east  1 to 5 Year Old   \n",
       "\n",
       "                                                                                                                                                                                                                                                                                                                                                           nearbyLocations  \\\n",
       "0  ['Jagdish Super Market', 'Dwarka', 'Euro International School', 'Gyaananda School', 'SCR Model School', 'Radha Krishan Mandir', 'ICICI BANK ATM, Annapurna MKT', 'ESIC Dispensary', 'IGIA Airport', 'Canara Bank New Palam Vihar', 'Gurgaon Gramin Bank', 'Daultabad Stadium', 'Bharat Petroleum Shree Shyam Filling', 'The Club, International City', 'Conscient One']   \n",
       "\n",
       "                                                                                                                                                                                                                                                         furnishDetails  \\\n",
       "0  ['1 Modular Kitchen', 'No AC', 'No Bed', 'No Chimney', 'No Curtains', 'No Dining Table', 'No Exhaust Fan', 'No Fan', 'No Geyser', 'No Light', 'No Microwave', 'No Fridge', 'No Sofa', 'No Stove', 'No TV', 'No Wardrobe', 'No Washing Machine', 'No Water Purifier']   \n",
       "\n",
       "                                                                                                                                                                                                                                                 features  \n",
       "0  ['Security / Fire Alarm', 'Intercom Facility', 'Lift(s)', 'Maintenance Staff', 'Swimming Pool', 'Water Storage', 'Park', 'Visitor Parking', 'Internet/wi-fi connectivity', 'Shopping Centre', 'Fitness Centre / GYM', 'Club house / Community Center']  "
      ]
     },
     "execution_count": 78,
     "metadata": {},
     "output_type": "execute_result"
    }
   ],
   "source": [
    "df.head(1)"
   ]
  },
  {
   "cell_type": "markdown",
   "metadata": {},
   "source": [
    "4. Detailed Analysis"
   ]
  },
  {
   "cell_type": "markdown",
   "metadata": {},
   "source": [
    "4.1 areaWithType"
   ]
  },
  {
   "cell_type": "code",
   "execution_count": 79,
   "metadata": {},
   "outputs": [
    {
     "data": {
      "text/html": [
       "<div>\n",
       "<style scoped>\n",
       "    .dataframe tbody tr th:only-of-type {\n",
       "        vertical-align: middle;\n",
       "    }\n",
       "\n",
       "    .dataframe tbody tr th {\n",
       "        vertical-align: top;\n",
       "    }\n",
       "\n",
       "    .dataframe thead th {\n",
       "        text-align: right;\n",
       "    }\n",
       "</style>\n",
       "<table border=\"1\" class=\"dataframe\">\n",
       "  <thead>\n",
       "    <tr style=\"text-align: right;\">\n",
       "      <th></th>\n",
       "      <th>price</th>\n",
       "      <th>area</th>\n",
       "      <th>areaWithType</th>\n",
       "    </tr>\n",
       "  </thead>\n",
       "  <tbody>\n",
       "    <tr>\n",
       "      <th>1568</th>\n",
       "      <td>1.10</td>\n",
       "      <td>2077.0</td>\n",
       "      <td>Super Built up area 2077(192.96 sq.m.)Carpet area: 1600 sq.ft. (148.64 sq.m.)</td>\n",
       "    </tr>\n",
       "    <tr>\n",
       "      <th>1864</th>\n",
       "      <td>1.33</td>\n",
       "      <td>783.0</td>\n",
       "      <td>Built Up area: 1423 (132.2 sq.m.)Carpet area: 783 sq.ft. (72.74 sq.m.)</td>\n",
       "    </tr>\n",
       "    <tr>\n",
       "      <th>998</th>\n",
       "      <td>1.25</td>\n",
       "      <td>1980.0</td>\n",
       "      <td>Super Built up area 1980(183.95 sq.m.)</td>\n",
       "    </tr>\n",
       "    <tr>\n",
       "      <th>1455</th>\n",
       "      <td>1.25</td>\n",
       "      <td>82781.0</td>\n",
       "      <td>Plot area 115(7692.86 sq.m.)</td>\n",
       "    </tr>\n",
       "    <tr>\n",
       "      <th>1956</th>\n",
       "      <td>1.42</td>\n",
       "      <td>1600.0</td>\n",
       "      <td>Super Built up area 2390(222.04 sq.m.)Built Up area: 2000 sq.ft. (185.81 sq.m.)Carpet area: 1600 sq.ft. (148.64 sq.m.)</td>\n",
       "    </tr>\n",
       "  </tbody>\n",
       "</table>\n",
       "</div>"
      ],
      "text/plain": [
       "      price     area  \\\n",
       "1568   1.10   2077.0   \n",
       "1864   1.33    783.0   \n",
       "998    1.25   1980.0   \n",
       "1455   1.25  82781.0   \n",
       "1956   1.42   1600.0   \n",
       "\n",
       "                                                                                                                areaWithType  \n",
       "1568                                           Super Built up area 2077(192.96 sq.m.)Carpet area: 1600 sq.ft. (148.64 sq.m.)  \n",
       "1864                                                  Built Up area: 1423 (132.2 sq.m.)Carpet area: 783 sq.ft. (72.74 sq.m.)  \n",
       "998                                                                                   Super Built up area 1980(183.95 sq.m.)  \n",
       "1455                                                                                            Plot area 115(7692.86 sq.m.)  \n",
       "1956  Super Built up area 2390(222.04 sq.m.)Built Up area: 2000 sq.ft. (185.81 sq.m.)Carpet area: 1600 sq.ft. (148.64 sq.m.)  "
      ]
     },
     "execution_count": 79,
     "metadata": {},
     "output_type": "execute_result"
    }
   ],
   "source": [
    "df.sample(5)[['price','area', 'areaWithType']]"
   ]
  },
  {
   "cell_type": "code",
   "execution_count": 95,
   "metadata": {},
   "outputs": [],
   "source": [
    "# function to extract the Super built up area \n",
    "\n",
    "def get_super_built_up_area(text):\n",
    "    match = re.search(r'Super Built up area (\\d+\\.?\\d*)', text)\n",
    "    if match:\n",
    "        return float(match.group(1))\n",
    "    return None"
   ]
  },
  {
   "cell_type": "code",
   "execution_count": 96,
   "metadata": {},
   "outputs": [],
   "source": [
    "# function to extract the built up area or carpet area \n",
    "\n",
    "def get_area(text, area_type):\n",
    "    match = re.search(area_type + r'\\s*:\\s*(\\d+\\.?\\d*)', text)\n",
    "    if match:\n",
    "        return float(match.group(1))\n",
    "    return None"
   ]
  },
  {
   "cell_type": "code",
   "execution_count": 99,
   "metadata": {},
   "outputs": [],
   "source": [
    "# this function checks if the area is in sq.m and converts to square feet if needed \n",
    "\n",
    "def convert_to_sqft(text, area_value):\n",
    "    if area_value is None:\n",
    "        return None\n",
    "    match = re.search(r'{} \\((\\d+\\.?\\d*) sq.m.\\)'.format(area_value), text)\n",
    "    if match:\n",
    "        sq_m_value = float(match.group(1))\n",
    "        return sq_m_value * 10.7639  # conversion factor from sq.m. to sqft\n",
    "    return area_value\n"
   ]
  },
  {
   "cell_type": "code",
   "execution_count": 100,
   "metadata": {},
   "outputs": [],
   "source": [
    "# extracting super built up area and converting it into sq_ft if needed \n",
    "\n",
    "df['super_built_up_area'] = df.areaWithType.apply(get_super_built_up_area)\n",
    "df['super_built_up_area'] = df.apply(lambda x: convert_to_sqft(x['areaWithType'], x['super_built_up_area']), axis=1)"
   ]
  },
  {
   "cell_type": "code",
   "execution_count": 72,
   "metadata": {},
   "outputs": [],
   "source": [
    "# extracting built up area and converting it if needed \n",
    "\n"
   ]
  },
  {
   "cell_type": "code",
   "execution_count": null,
   "metadata": {},
   "outputs": [],
   "source": []
  }
 ],
 "metadata": {
  "kernelspec": {
   "display_name": "my_env",
   "language": "python",
   "name": "python3"
  },
  "language_info": {
   "codemirror_mode": {
    "name": "ipython",
    "version": 3
   },
   "file_extension": ".py",
   "mimetype": "text/x-python",
   "name": "python",
   "nbconvert_exporter": "python",
   "pygments_lexer": "ipython3",
   "version": "3.11.4"
  }
 },
 "nbformat": 4,
 "nbformat_minor": 2
}
