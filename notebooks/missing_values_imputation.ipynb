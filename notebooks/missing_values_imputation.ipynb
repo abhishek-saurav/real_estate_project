{
 "cells": [
  {
   "cell_type": "markdown",
   "metadata": {},
   "source": [
    "1. Importing libraries"
   ]
  },
  {
   "cell_type": "code",
   "execution_count": 283,
   "metadata": {},
   "outputs": [],
   "source": [
    "import numpy as np, pandas as pd, matplotlib.pyplot as plt, seaborn as sns, os "
   ]
  },
  {
   "cell_type": "markdown",
   "metadata": {},
   "source": [
    "Setting display options"
   ]
  },
  {
   "cell_type": "code",
   "execution_count": 284,
   "metadata": {},
   "outputs": [],
   "source": [
    "pd.set_option(\"display.max_rows\", None)\n",
    "pd.set_option(\"display.max_columns\", None)\n",
    "pd.set_option(\"display.max_colwidth\", None)"
   ]
  },
  {
   "cell_type": "markdown",
   "metadata": {},
   "source": [
    "2. Reading the data"
   ]
  },
  {
   "cell_type": "code",
   "execution_count": 285,
   "metadata": {},
   "outputs": [],
   "source": [
    "PROJECT_DIR  = \"/Users/abhisheksaurav/Desktop/real_estate_project/\"\n",
    "DATA_DIR = \"Data Collection/Data/City/chandigarh/cleaned_data\""
   ]
  },
  {
   "cell_type": "code",
   "execution_count": 286,
   "metadata": {},
   "outputs": [],
   "source": [
    "def get_data(name):\n",
    "    file_name = \"{}.csv\".format(name)\n",
    "    file_path = os.path.join(PROJECT_DIR, DATA_DIR, file_name)\n",
    "    return pd.read_csv(file_path)"
   ]
  },
  {
   "cell_type": "code",
   "execution_count": 287,
   "metadata": {},
   "outputs": [],
   "source": [
    "data = get_data(\"gurgaon_properties_outlier_treated\")"
   ]
  },
  {
   "cell_type": "code",
   "execution_count": 288,
   "metadata": {},
   "outputs": [
    {
     "data": {
      "text/html": [
       "<div>\n",
       "<style scoped>\n",
       "    .dataframe tbody tr th:only-of-type {\n",
       "        vertical-align: middle;\n",
       "    }\n",
       "\n",
       "    .dataframe tbody tr th {\n",
       "        vertical-align: top;\n",
       "    }\n",
       "\n",
       "    .dataframe thead th {\n",
       "        text-align: right;\n",
       "    }\n",
       "</style>\n",
       "<table border=\"1\" class=\"dataframe\">\n",
       "  <thead>\n",
       "    <tr style=\"text-align: right;\">\n",
       "      <th></th>\n",
       "      <th>property type</th>\n",
       "      <th>society</th>\n",
       "      <th>sector</th>\n",
       "      <th>price</th>\n",
       "      <th>price_per_sq_ft</th>\n",
       "      <th>area</th>\n",
       "      <th>areaWithType</th>\n",
       "      <th>bedRoom</th>\n",
       "      <th>bathroom</th>\n",
       "      <th>balcony</th>\n",
       "      <th>floorNum</th>\n",
       "      <th>facing</th>\n",
       "      <th>agePossession</th>\n",
       "      <th>super_built_up_area</th>\n",
       "      <th>built_up_area</th>\n",
       "      <th>carpet_area</th>\n",
       "      <th>study room</th>\n",
       "      <th>servant room</th>\n",
       "      <th>store room</th>\n",
       "      <th>pooja room</th>\n",
       "      <th>others</th>\n",
       "      <th>furnishing_type</th>\n",
       "      <th>luxary_score</th>\n",
       "      <th>area_bedroom_ratio</th>\n",
       "    </tr>\n",
       "  </thead>\n",
       "  <tbody>\n",
       "    <tr>\n",
       "      <th>3160</th>\n",
       "      <td>flat</td>\n",
       "      <td>dlf regal gardens</td>\n",
       "      <td>sector 90</td>\n",
       "      <td>1.20</td>\n",
       "      <td>6838.0</td>\n",
       "      <td>1755.0</td>\n",
       "      <td>Super Built up area 1755(163.04 sq.m.)Carpet area: 1400 sq.ft. (130.06 sq.m.)</td>\n",
       "      <td>3.0</td>\n",
       "      <td>3</td>\n",
       "      <td>3+</td>\n",
       "      <td>15.0</td>\n",
       "      <td>south-west</td>\n",
       "      <td>Relatively New</td>\n",
       "      <td>1755.0</td>\n",
       "      <td>NaN</td>\n",
       "      <td>1400.0</td>\n",
       "      <td>0</td>\n",
       "      <td>0</td>\n",
       "      <td>0</td>\n",
       "      <td>0</td>\n",
       "      <td>0</td>\n",
       "      <td>0</td>\n",
       "      <td>118</td>\n",
       "      <td>585.0</td>\n",
       "    </tr>\n",
       "    <tr>\n",
       "      <th>1575</th>\n",
       "      <td>flat</td>\n",
       "      <td>hcbs sports ville</td>\n",
       "      <td>sector 163</td>\n",
       "      <td>0.32</td>\n",
       "      <td>5517.0</td>\n",
       "      <td>580.0</td>\n",
       "      <td>Carpet area: 580 (53.88 sq.m.)</td>\n",
       "      <td>2.0</td>\n",
       "      <td>2</td>\n",
       "      <td>1</td>\n",
       "      <td>7.0</td>\n",
       "      <td>na</td>\n",
       "      <td>New Property</td>\n",
       "      <td>NaN</td>\n",
       "      <td>NaN</td>\n",
       "      <td>580.0</td>\n",
       "      <td>0</td>\n",
       "      <td>0</td>\n",
       "      <td>0</td>\n",
       "      <td>0</td>\n",
       "      <td>0</td>\n",
       "      <td>0</td>\n",
       "      <td>37</td>\n",
       "      <td>290.0</td>\n",
       "    </tr>\n",
       "    <tr>\n",
       "      <th>121</th>\n",
       "      <td>house</td>\n",
       "      <td>independent</td>\n",
       "      <td>sector 3</td>\n",
       "      <td>0.37</td>\n",
       "      <td>7923.0</td>\n",
       "      <td>467.0</td>\n",
       "      <td>Built Up area: 480 (44.59 sq.m.)</td>\n",
       "      <td>1.0</td>\n",
       "      <td>1</td>\n",
       "      <td>1</td>\n",
       "      <td>1.0</td>\n",
       "      <td>NaN</td>\n",
       "      <td>Relatively New</td>\n",
       "      <td>NaN</td>\n",
       "      <td>480.0</td>\n",
       "      <td>NaN</td>\n",
       "      <td>0</td>\n",
       "      <td>0</td>\n",
       "      <td>0</td>\n",
       "      <td>0</td>\n",
       "      <td>0</td>\n",
       "      <td>0</td>\n",
       "      <td>0</td>\n",
       "      <td>467.0</td>\n",
       "    </tr>\n",
       "  </tbody>\n",
       "</table>\n",
       "</div>"
      ],
      "text/plain": [
       "     property type            society      sector  price  price_per_sq_ft  \\\n",
       "3160          flat  dlf regal gardens   sector 90   1.20           6838.0   \n",
       "1575          flat  hcbs sports ville  sector 163   0.32           5517.0   \n",
       "121          house        independent    sector 3   0.37           7923.0   \n",
       "\n",
       "        area  \\\n",
       "3160  1755.0   \n",
       "1575   580.0   \n",
       "121    467.0   \n",
       "\n",
       "                                                                       areaWithType  \\\n",
       "3160  Super Built up area 1755(163.04 sq.m.)Carpet area: 1400 sq.ft. (130.06 sq.m.)   \n",
       "1575                                                 Carpet area: 580 (53.88 sq.m.)   \n",
       "121                                                Built Up area: 480 (44.59 sq.m.)   \n",
       "\n",
       "      bedRoom  bathroom balcony  floorNum      facing   agePossession  \\\n",
       "3160      3.0         3      3+      15.0  south-west  Relatively New   \n",
       "1575      2.0         2       1       7.0          na    New Property   \n",
       "121       1.0         1       1       1.0         NaN  Relatively New   \n",
       "\n",
       "      super_built_up_area  built_up_area  carpet_area  study room  \\\n",
       "3160               1755.0            NaN       1400.0           0   \n",
       "1575                  NaN            NaN        580.0           0   \n",
       "121                   NaN          480.0          NaN           0   \n",
       "\n",
       "      servant room  store room  pooja room  others  furnishing_type  \\\n",
       "3160             0           0           0       0                0   \n",
       "1575             0           0           0       0                0   \n",
       "121              0           0           0       0                0   \n",
       "\n",
       "      luxary_score  area_bedroom_ratio  \n",
       "3160           118               585.0  \n",
       "1575            37               290.0  \n",
       "121              0               467.0  "
      ]
     },
     "execution_count": 288,
     "metadata": {},
     "output_type": "execute_result"
    }
   ],
   "source": [
    "data.sample(3)"
   ]
  },
  {
   "cell_type": "code",
   "execution_count": 289,
   "metadata": {},
   "outputs": [
    {
     "data": {
      "text/plain": [
       "property type             0\n",
       "society                   1\n",
       "sector                    0\n",
       "price                     0\n",
       "price_per_sq_ft           0\n",
       "area                      0\n",
       "areaWithType              0\n",
       "bedRoom                   0\n",
       "bathroom                  0\n",
       "balcony                   0\n",
       "floorNum                  2\n",
       "facing                  255\n",
       "agePossession             0\n",
       "super_built_up_area    1874\n",
       "built_up_area          2093\n",
       "carpet_area            1842\n",
       "study room                0\n",
       "servant room              0\n",
       "store room                0\n",
       "pooja room                0\n",
       "others                    0\n",
       "furnishing_type           0\n",
       "luxary_score              0\n",
       "area_bedroom_ratio        0\n",
       "dtype: int64"
      ]
     },
     "execution_count": 289,
     "metadata": {},
     "output_type": "execute_result"
    }
   ],
   "source": [
    "# checking for null values \n",
    "\n",
    "data.isnull().sum()"
   ]
  },
  {
   "cell_type": "code",
   "execution_count": 290,
   "metadata": {},
   "outputs": [
    {
     "data": {
      "text/plain": [
       "(0, 24)"
      ]
     },
     "execution_count": 290,
     "metadata": {},
     "output_type": "execute_result"
    }
   ],
   "source": [
    "data[(data.super_built_up_area.isnull()) & (data.built_up_area.isnull()) & (data.carpet_area.isnull())].shape"
   ]
  },
  {
   "cell_type": "markdown",
   "metadata": {},
   "source": [
    "- There aren't ary records for which the super built up area, built up area and carpet area have null values. \n",
    "- We will use super built up area and carpet area to fill the missing values in the built up area. "
   ]
  },
  {
   "cell_type": "code",
   "execution_count": 291,
   "metadata": {},
   "outputs": [
    {
     "data": {
      "text/plain": [
       "facing\n",
       "na            871\n",
       "north-east    503\n",
       "east          488\n",
       "north         298\n",
       "south         203\n",
       "west          183\n",
       "north-west    160\n",
       "East          155\n",
       "North-East    145\n",
       "south-east    144\n",
       "south-west    133\n",
       "North          93\n",
       "West           60\n",
       "South-East     35\n",
       "North-West     35\n",
       "South          27\n",
       "South-West     20\n",
       "Name: count, dtype: int64"
      ]
     },
     "execution_count": 291,
     "metadata": {},
     "output_type": "execute_result"
    }
   ],
   "source": [
    "data.facing.value_counts()"
   ]
  },
  {
   "cell_type": "markdown",
   "metadata": {},
   "source": [
    "built_up_area"
   ]
  },
  {
   "cell_type": "code",
   "execution_count": 292,
   "metadata": {},
   "outputs": [
    {
     "data": {
      "image/png": "[encoded data removed]",
      "text/plain": [
       "<Figure size 1200x700 with 2 Axes>"
      ]
     },
     "metadata": {},
     "output_type": "display_data"
    }
   ],
   "source": [
    "plt.figure(figsize=(12, 7))\n",
    "plt.subplot(2, 2, 1)\n",
    "sns.scatterplot(data, y = 'super_built_up_area', x = 'built_up_area')\n",
    "plt.subplot(2, 2, 2)\n",
    "sns.scatterplot(data, x = 'built_up_area', y = 'carpet_area')\n",
    "plt.show()"
   ]
  },
  {
   "cell_type": "markdown",
   "metadata": {},
   "source": [
    "- From here we can see that there is a very strong linear relationship between the built up area and super built up area \n",
    "- so we can use the super built up area to predict the built up area because this is a fixed quantity which is established by the government. \n",
    "- There is a very strong linear relationship between the built up area and carpet area and this is logical as well because the carpet area will be smaller than the built up area. "
   ]
  },
  {
   "cell_type": "code",
   "execution_count": 293,
   "metadata": {},
   "outputs": [],
   "source": [
    "all_present_df = data[~((data.super_built_up_area.isnull()) | (data.built_up_area.isnull()) | (data.carpet_area.isnull()))]"
   ]
  },
  {
   "cell_type": "code",
   "execution_count": 294,
   "metadata": {},
   "outputs": [
    {
     "data": {
      "text/plain": [
       "(537, 24)"
      ]
     },
     "execution_count": 294,
     "metadata": {},
     "output_type": "execute_result"
    }
   ],
   "source": [
    "all_present_df.shape"
   ]
  },
  {
   "cell_type": "code",
   "execution_count": 295,
   "metadata": {},
   "outputs": [
    {
     "data": {
      "text/html": [
       "<div>\n",
       "<style scoped>\n",
       "    .dataframe tbody tr th:only-of-type {\n",
       "        vertical-align: middle;\n",
       "    }\n",
       "\n",
       "    .dataframe tbody tr th {\n",
       "        vertical-align: top;\n",
       "    }\n",
       "\n",
       "    .dataframe thead th {\n",
       "        text-align: right;\n",
       "    }\n",
       "</style>\n",
       "<table border=\"1\" class=\"dataframe\">\n",
       "  <thead>\n",
       "    <tr style=\"text-align: right;\">\n",
       "      <th></th>\n",
       "      <th>property type</th>\n",
       "      <th>society</th>\n",
       "      <th>sector</th>\n",
       "      <th>price</th>\n",
       "      <th>price_per_sq_ft</th>\n",
       "      <th>area</th>\n",
       "      <th>areaWithType</th>\n",
       "      <th>bedRoom</th>\n",
       "      <th>bathroom</th>\n",
       "      <th>balcony</th>\n",
       "      <th>floorNum</th>\n",
       "      <th>facing</th>\n",
       "      <th>agePossession</th>\n",
       "      <th>super_built_up_area</th>\n",
       "      <th>built_up_area</th>\n",
       "      <th>carpet_area</th>\n",
       "      <th>study room</th>\n",
       "      <th>servant room</th>\n",
       "      <th>store room</th>\n",
       "      <th>pooja room</th>\n",
       "      <th>others</th>\n",
       "      <th>furnishing_type</th>\n",
       "      <th>luxary_score</th>\n",
       "      <th>area_bedroom_ratio</th>\n",
       "    </tr>\n",
       "  </thead>\n",
       "  <tbody>\n",
       "    <tr>\n",
       "      <th>2205</th>\n",
       "      <td>flat</td>\n",
       "      <td>dlf new town heights</td>\n",
       "      <td>sector 90</td>\n",
       "      <td>1.21</td>\n",
       "      <td>6244.0</td>\n",
       "      <td>1938.0</td>\n",
       "      <td>Super Built up area 1930(179.3 sq.m.)Built Up area: 1929 sq.ft. (179.21 sq.m.)Carpet area: 1928 sq.ft. (179.12 sq.m.)</td>\n",
       "      <td>3.0</td>\n",
       "      <td>3</td>\n",
       "      <td>3+</td>\n",
       "      <td>7.0</td>\n",
       "      <td>west</td>\n",
       "      <td>Relatively New</td>\n",
       "      <td>1930.0</td>\n",
       "      <td>1929.0</td>\n",
       "      <td>1928.0</td>\n",
       "      <td>0</td>\n",
       "      <td>1</td>\n",
       "      <td>0</td>\n",
       "      <td>1</td>\n",
       "      <td>0</td>\n",
       "      <td>0</td>\n",
       "      <td>127</td>\n",
       "      <td>646.00</td>\n",
       "    </tr>\n",
       "    <tr>\n",
       "      <th>2547</th>\n",
       "      <td>flat</td>\n",
       "      <td>ats marigold</td>\n",
       "      <td>sector 89</td>\n",
       "      <td>1.50</td>\n",
       "      <td>8499.0</td>\n",
       "      <td>1765.0</td>\n",
       "      <td>Super Built up area 1750(162.58 sq.m.)Built Up area: 1480 sq.ft. (137.5 sq.m.)Carpet area: 1450 sq.ft. (134.71 sq.m.)</td>\n",
       "      <td>3.0</td>\n",
       "      <td>3</td>\n",
       "      <td>3</td>\n",
       "      <td>5.0</td>\n",
       "      <td>north</td>\n",
       "      <td>Under Construction</td>\n",
       "      <td>1750.0</td>\n",
       "      <td>1480.0</td>\n",
       "      <td>1450.0</td>\n",
       "      <td>0</td>\n",
       "      <td>0</td>\n",
       "      <td>0</td>\n",
       "      <td>0</td>\n",
       "      <td>0</td>\n",
       "      <td>0</td>\n",
       "      <td>96</td>\n",
       "      <td>588.33</td>\n",
       "    </tr>\n",
       "    <tr>\n",
       "      <th>970</th>\n",
       "      <td>flat</td>\n",
       "      <td>signature global park</td>\n",
       "      <td>sector 163</td>\n",
       "      <td>0.85</td>\n",
       "      <td>7863.0</td>\n",
       "      <td>1081.0</td>\n",
       "      <td>Super Built up area 1081(100.43 sq.m.)Built Up area: 1080 sq.ft. (100.34 sq.m.)Carpet area: 670 sq.ft. (62.25 sq.m.)</td>\n",
       "      <td>3.0</td>\n",
       "      <td>2</td>\n",
       "      <td>2</td>\n",
       "      <td>4.0</td>\n",
       "      <td>east</td>\n",
       "      <td>New Property</td>\n",
       "      <td>1081.0</td>\n",
       "      <td>1080.0</td>\n",
       "      <td>670.0</td>\n",
       "      <td>0</td>\n",
       "      <td>0</td>\n",
       "      <td>0</td>\n",
       "      <td>0</td>\n",
       "      <td>0</td>\n",
       "      <td>0</td>\n",
       "      <td>23</td>\n",
       "      <td>360.33</td>\n",
       "    </tr>\n",
       "  </tbody>\n",
       "</table>\n",
       "</div>"
      ],
      "text/plain": [
       "     property type                society      sector  price  price_per_sq_ft  \\\n",
       "2205          flat   dlf new town heights   sector 90   1.21           6244.0   \n",
       "2547          flat           ats marigold   sector 89   1.50           8499.0   \n",
       "970           flat  signature global park  sector 163   0.85           7863.0   \n",
       "\n",
       "        area  \\\n",
       "2205  1938.0   \n",
       "2547  1765.0   \n",
       "970   1081.0   \n",
       "\n",
       "                                                                                                               areaWithType  \\\n",
       "2205  Super Built up area 1930(179.3 sq.m.)Built Up area: 1929 sq.ft. (179.21 sq.m.)Carpet area: 1928 sq.ft. (179.12 sq.m.)   \n",
       "2547  Super Built up area 1750(162.58 sq.m.)Built Up area: 1480 sq.ft. (137.5 sq.m.)Carpet area: 1450 sq.ft. (134.71 sq.m.)   \n",
       "970    Super Built up area 1081(100.43 sq.m.)Built Up area: 1080 sq.ft. (100.34 sq.m.)Carpet area: 670 sq.ft. (62.25 sq.m.)   \n",
       "\n",
       "      bedRoom  bathroom balcony  floorNum facing       agePossession  \\\n",
       "2205      3.0         3      3+       7.0   west      Relatively New   \n",
       "2547      3.0         3       3       5.0  north  Under Construction   \n",
       "970       3.0         2       2       4.0   east        New Property   \n",
       "\n",
       "      super_built_up_area  built_up_area  carpet_area  study room  \\\n",
       "2205               1930.0         1929.0       1928.0           0   \n",
       "2547               1750.0         1480.0       1450.0           0   \n",
       "970                1081.0         1080.0        670.0           0   \n",
       "\n",
       "      servant room  store room  pooja room  others  furnishing_type  \\\n",
       "2205             1           0           1       0                0   \n",
       "2547             0           0           0       0                0   \n",
       "970              0           0           0       0                0   \n",
       "\n",
       "      luxary_score  area_bedroom_ratio  \n",
       "2205           127              646.00  \n",
       "2547            96              588.33  \n",
       "970             23              360.33  "
      ]
     },
     "execution_count": 295,
     "metadata": {},
     "output_type": "execute_result"
    }
   ],
   "source": [
    "all_present_df.sample(3)"
   ]
  },
  {
   "cell_type": "code",
   "execution_count": 296,
   "metadata": {},
   "outputs": [
    {
     "name": "stdout",
     "output_type": "stream",
     "text": [
      "Super built up area to built up area ratio is 1.105 and Carpet area to built up area ratio is 0.900\n"
     ]
    }
   ],
   "source": [
    "super_to_built_up_area_ratio = (all_present_df['super_built_up_area']/ all_present_df['built_up_area']).median()\n",
    "carpet_to_built_up_area_ratio = (all_present_df['carpet_area']/ all_present_df['built_up_area']).median()\n",
    "print(f\"Super built up area to built up area ratio is {super_to_built_up_area_ratio:.3f} and Carpet area to built up area ratio is {carpet_to_built_up_area_ratio:.3f}\")"
   ]
  },
  {
   "cell_type": "markdown",
   "metadata": {},
   "source": [
    "- now extracting that rows in which the super built up area and carpet area is provided but not the built up area "
   ]
  },
  {
   "cell_type": "code",
   "execution_count": 297,
   "metadata": {},
   "outputs": [],
   "source": [
    "sbc_df = data[~(data['super_built_up_area'].isnull()) & (data['built_up_area'].isnull()) & ~(data['carpet_area'].isnull())]"
   ]
  },
  {
   "cell_type": "code",
   "execution_count": 298,
   "metadata": {},
   "outputs": [
    {
     "name": "stderr",
     "output_type": "stream",
     "text": [
      "/var/folders/_r/sndd4_s924d6z4fgsvt_v31r0000gn/T/ipykernel_15476/3089369129.py:1: FutureWarning: A value is trying to be set on a copy of a DataFrame or Series through chained assignment using an inplace method.\n",
      "The behavior will change in pandas 3.0. This inplace method will never work because the intermediate object on which we are setting values always behaves as a copy.\n",
      "\n",
      "For example, when doing 'df[col].method(value, inplace=True)', try using 'df.method({col: value}, inplace=True)' or df[col] = df[col].method(value) instead, to perform the operation inplace on the original object.\n",
      "\n",
      "\n",
      "  sbc_df['built_up_area'].fillna(round(((sbc_df['super_built_up_area']/1.105) + (sbc_df['carpet_area']/0.9))/2), inplace= True)\n",
      "/var/folders/_r/sndd4_s924d6z4fgsvt_v31r0000gn/T/ipykernel_15476/3089369129.py:1: SettingWithCopyWarning: \n",
      "A value is trying to be set on a copy of a slice from a DataFrame\n",
      "\n",
      "See the caveats in the documentation: https://pandas.pydata.org/pandas-docs/stable/user_guide/indexing.html#returning-a-view-versus-a-copy\n",
      "  sbc_df['built_up_area'].fillna(round(((sbc_df['super_built_up_area']/1.105) + (sbc_df['carpet_area']/0.9))/2), inplace= True)\n"
     ]
    }
   ],
   "source": [
    "sbc_df['built_up_area'].fillna(round(((sbc_df['super_built_up_area']/1.105) + (sbc_df['carpet_area']/0.9))/2), inplace= True)"
   ]
  },
  {
   "cell_type": "code",
   "execution_count": 299,
   "metadata": {},
   "outputs": [],
   "source": [
    "# updating the original data with these values \n",
    "\n",
    "data.update(sbc_df)"
   ]
  },
  {
   "cell_type": "code",
   "execution_count": 300,
   "metadata": {},
   "outputs": [
    {
     "data": {
      "text/plain": [
       "property type             0\n",
       "society                   1\n",
       "sector                    0\n",
       "price                     0\n",
       "price_per_sq_ft           0\n",
       "area                      0\n",
       "areaWithType              0\n",
       "bedRoom                   0\n",
       "bathroom                  0\n",
       "balcony                   0\n",
       "floorNum                  2\n",
       "facing                  255\n",
       "agePossession             0\n",
       "super_built_up_area    1874\n",
       "built_up_area          1662\n",
       "carpet_area            1842\n",
       "study room                0\n",
       "servant room              0\n",
       "store room                0\n",
       "pooja room                0\n",
       "others                    0\n",
       "furnishing_type           0\n",
       "luxary_score              0\n",
       "area_bedroom_ratio        0\n",
       "dtype: int64"
      ]
     },
     "execution_count": 300,
     "metadata": {},
     "output_type": "execute_result"
    }
   ],
   "source": [
    "data.isnull().sum()"
   ]
  },
  {
   "cell_type": "markdown",
   "metadata": {},
   "source": [
    "\n",
    "- built up area has now significantly reduced from 2093 to 1662\n",
    "- now extracting those rows in which super built up area is avaialble, built up area is null and carpet area is null"
   ]
  },
  {
   "cell_type": "code",
   "execution_count": 301,
   "metadata": {},
   "outputs": [],
   "source": [
    "sbc_df = (\n",
    "    data[~(data['super_built_up_area'].isnull()) & (data['built_up_area'].isnull()) & (data['carpet_area'].isnull())]    \n",
    ")\n"
   ]
  },
  {
   "cell_type": "code",
   "execution_count": 302,
   "metadata": {},
   "outputs": [
    {
     "name": "stderr",
     "output_type": "stream",
     "text": [
      "/var/folders/_r/sndd4_s924d6z4fgsvt_v31r0000gn/T/ipykernel_15476/3311252420.py:1: FutureWarning: A value is trying to be set on a copy of a DataFrame or Series through chained assignment using an inplace method.\n",
      "The behavior will change in pandas 3.0. This inplace method will never work because the intermediate object on which we are setting values always behaves as a copy.\n",
      "\n",
      "For example, when doing 'df[col].method(value, inplace=True)', try using 'df.method({col: value}, inplace=True)' or df[col] = df[col].method(value) instead, to perform the operation inplace on the original object.\n",
      "\n",
      "\n",
      "  sbc_df['built_up_area'].fillna(round(sbc_df['super_built_up_area']/1.105), inplace= True)\n",
      "/var/folders/_r/sndd4_s924d6z4fgsvt_v31r0000gn/T/ipykernel_15476/3311252420.py:1: SettingWithCopyWarning: \n",
      "A value is trying to be set on a copy of a slice from a DataFrame\n",
      "\n",
      "See the caveats in the documentation: https://pandas.pydata.org/pandas-docs/stable/user_guide/indexing.html#returning-a-view-versus-a-copy\n",
      "  sbc_df['built_up_area'].fillna(round(sbc_df['super_built_up_area']/1.105), inplace= True)\n"
     ]
    }
   ],
   "source": [
    "sbc_df['built_up_area'].fillna(round(sbc_df['super_built_up_area']/1.105), inplace= True)"
   ]
  },
  {
   "cell_type": "code",
   "execution_count": 303,
   "metadata": {},
   "outputs": [],
   "source": [
    "data.update(sbc_df)"
   ]
  },
  {
   "cell_type": "code",
   "execution_count": 304,
   "metadata": {},
   "outputs": [
    {
     "data": {
      "text/plain": [
       "np.int64(747)"
      ]
     },
     "execution_count": 304,
     "metadata": {},
     "output_type": "execute_result"
    }
   ],
   "source": [
    "data['built_up_area'].isnull().sum()"
   ]
  },
  {
   "cell_type": "markdown",
   "metadata": {},
   "source": [
    "- Now the missing values in the built up area has significantly reduced to 747 from 1662. \n",
    "- Now we will use the carpet area columnt to fill the missing values in the built up area "
   ]
  },
  {
   "cell_type": "code",
   "execution_count": 305,
   "metadata": {},
   "outputs": [],
   "source": [
    "# extracting those rows in which super built up area is not present but carpet area is avilable. \n",
    "# we will use the carpet area to fill the missing values for the built up area \n",
    "\n",
    "c_df = (\n",
    "    data[(data['super_built_up_area'].isnull()) & (data['built_up_area'].isnull()) & ~(data['carpet_area'].isnull())]    \n",
    ")\n"
   ]
  },
  {
   "cell_type": "code",
   "execution_count": 306,
   "metadata": {},
   "outputs": [
    {
     "name": "stderr",
     "output_type": "stream",
     "text": [
      "/var/folders/_r/sndd4_s924d6z4fgsvt_v31r0000gn/T/ipykernel_15476/785797264.py:1: FutureWarning: A value is trying to be set on a copy of a DataFrame or Series through chained assignment using an inplace method.\n",
      "The behavior will change in pandas 3.0. This inplace method will never work because the intermediate object on which we are setting values always behaves as a copy.\n",
      "\n",
      "For example, when doing 'df[col].method(value, inplace=True)', try using 'df.method({col: value}, inplace=True)' or df[col] = df[col].method(value) instead, to perform the operation inplace on the original object.\n",
      "\n",
      "\n",
      "  c_df['built_up_area'].fillna(round(c_df['carpet_area']/0.9), inplace= True)\n",
      "/var/folders/_r/sndd4_s924d6z4fgsvt_v31r0000gn/T/ipykernel_15476/785797264.py:1: SettingWithCopyWarning: \n",
      "A value is trying to be set on a copy of a slice from a DataFrame\n",
      "\n",
      "See the caveats in the documentation: https://pandas.pydata.org/pandas-docs/stable/user_guide/indexing.html#returning-a-view-versus-a-copy\n",
      "  c_df['built_up_area'].fillna(round(c_df['carpet_area']/0.9), inplace= True)\n"
     ]
    }
   ],
   "source": [
    "c_df['built_up_area'].fillna(round(c_df['carpet_area']/0.9), inplace= True)"
   ]
  },
  {
   "cell_type": "code",
   "execution_count": 307,
   "metadata": {},
   "outputs": [],
   "source": [
    "data.update(c_df)"
   ]
  },
  {
   "cell_type": "code",
   "execution_count": 308,
   "metadata": {},
   "outputs": [
    {
     "data": {
      "text/plain": [
       "np.int64(0)"
      ]
     },
     "execution_count": 308,
     "metadata": {},
     "output_type": "execute_result"
    }
   ],
   "source": [
    "data['built_up_area'].isnull().sum()"
   ]
  },
  {
   "cell_type": "markdown",
   "metadata": {},
   "source": [
    "- Now there aren't any missing values in the built up area section"
   ]
  },
  {
   "cell_type": "code",
   "execution_count": 309,
   "metadata": {},
   "outputs": [
    {
     "data": {
      "text/plain": [
       "property type             0\n",
       "society                   1\n",
       "sector                    0\n",
       "price                     0\n",
       "price_per_sq_ft           0\n",
       "area                      0\n",
       "areaWithType              0\n",
       "bedRoom                   0\n",
       "bathroom                  0\n",
       "balcony                   0\n",
       "floorNum                  2\n",
       "facing                  255\n",
       "agePossession             0\n",
       "super_built_up_area    1874\n",
       "built_up_area             0\n",
       "carpet_area            1842\n",
       "study room                0\n",
       "servant room              0\n",
       "store room                0\n",
       "pooja room                0\n",
       "others                    0\n",
       "furnishing_type           0\n",
       "luxary_score              0\n",
       "area_bedroom_ratio        0\n",
       "dtype: int64"
      ]
     },
     "execution_count": 309,
     "metadata": {},
     "output_type": "execute_result"
    }
   ],
   "source": [
    "data.isnull().sum()"
   ]
  },
  {
   "cell_type": "code",
   "execution_count": 310,
   "metadata": {},
   "outputs": [
    {
     "data": {
      "text/plain": [
       "<Axes: xlabel='built_up_area', ylabel='price'>"
      ]
     },
     "execution_count": 310,
     "metadata": {},
     "output_type": "execute_result"
    },
    {
     "data": {
      "image/png": "[encoded data removed]",
      "text/plain": [
       "<Figure size 640x480 with 1 Axes>"
      ]
     },
     "metadata": {},
     "output_type": "display_data"
    }
   ],
   "source": [
    "sns.scatterplot(data= data, x = 'built_up_area', y = 'price')"
   ]
  },
  {
   "cell_type": "markdown",
   "metadata": {},
   "source": [
    "- In the scatter plto we can see there an anamoly, which is representing the price is increasing without increase in the area. so now, we will address that. \n",
    "- This anamoly is in the built up area less than 2000 square feet built up area where the price is greater than 2.5 crores. "
   ]
  },
  {
   "cell_type": "code",
   "execution_count": 311,
   "metadata": {},
   "outputs": [],
   "source": [
    "anamoly_df = data[(data['built_up_area'] < 2000) & (data['price'] > 2.5)][['price', 'area', 'built_up_area']]"
   ]
  },
  {
   "cell_type": "code",
   "execution_count": 312,
   "metadata": {},
   "outputs": [
    {
     "data": {
      "text/html": [
       "<div>\n",
       "<style scoped>\n",
       "    .dataframe tbody tr th:only-of-type {\n",
       "        vertical-align: middle;\n",
       "    }\n",
       "\n",
       "    .dataframe tbody tr th {\n",
       "        vertical-align: top;\n",
       "    }\n",
       "\n",
       "    .dataframe thead th {\n",
       "        text-align: right;\n",
       "    }\n",
       "</style>\n",
       "<table border=\"1\" class=\"dataframe\">\n",
       "  <thead>\n",
       "    <tr style=\"text-align: right;\">\n",
       "      <th></th>\n",
       "      <th>price</th>\n",
       "      <th>area</th>\n",
       "      <th>built_up_area</th>\n",
       "    </tr>\n",
       "  </thead>\n",
       "  <tbody>\n",
       "    <tr>\n",
       "      <th>704</th>\n",
       "      <td>4.20</td>\n",
       "      <td>2125.0</td>\n",
       "      <td>1946.0</td>\n",
       "    </tr>\n",
       "    <tr>\n",
       "      <th>2753</th>\n",
       "      <td>2.58</td>\n",
       "      <td>1458.0</td>\n",
       "      <td>1444.0</td>\n",
       "    </tr>\n",
       "    <tr>\n",
       "      <th>1394</th>\n",
       "      <td>9.85</td>\n",
       "      <td>3323.0</td>\n",
       "      <td>418.0</td>\n",
       "    </tr>\n",
       "    <tr>\n",
       "      <th>474</th>\n",
       "      <td>2.80</td>\n",
       "      <td>2048.0</td>\n",
       "      <td>1853.0</td>\n",
       "    </tr>\n",
       "    <tr>\n",
       "      <th>0</th>\n",
       "      <td>4.25</td>\n",
       "      <td>1620.0</td>\n",
       "      <td>200.0</td>\n",
       "    </tr>\n",
       "  </tbody>\n",
       "</table>\n",
       "</div>"
      ],
      "text/plain": [
       "      price    area  built_up_area\n",
       "704    4.20  2125.0         1946.0\n",
       "2753   2.58  1458.0         1444.0\n",
       "1394   9.85  3323.0          418.0\n",
       "474    2.80  2048.0         1853.0\n",
       "0      4.25  1620.0          200.0"
      ]
     },
     "execution_count": 312,
     "metadata": {},
     "output_type": "execute_result"
    }
   ],
   "source": [
    "anamoly_df.sample(5)"
   ]
  },
  {
   "cell_type": "markdown",
   "metadata": {},
   "source": [
    "- From here we can see that the price of the property is justfied with respect to the `area` but not with the `built_up_area`. \n",
    "- So now, we will replace the `built_up_area` for this anamoly with the `area` value "
   ]
  },
  {
   "cell_type": "code",
   "execution_count": 313,
   "metadata": {},
   "outputs": [],
   "source": [
    "anamoly_df['built_up_area'] = anamoly_df['area']\n",
    "\n",
    "# updating the original dataframe with these values \n",
    "\n",
    "data.update(anamoly_df)"
   ]
  },
  {
   "cell_type": "code",
   "execution_count": 314,
   "metadata": {},
   "outputs": [
    {
     "data": {
      "text/plain": [
       "<Axes: xlabel='built_up_area', ylabel='price'>"
      ]
     },
     "execution_count": 314,
     "metadata": {},
     "output_type": "execute_result"
    },
    {
     "data": {
      "image/png": "[encoded data removed]",
      "text/plain": [
       "<Figure size 640x480 with 1 Axes>"
      ]
     },
     "metadata": {},
     "output_type": "display_data"
    }
   ],
   "source": [
    "sns.scatterplot(data, x = 'built_up_area', y = 'price')"
   ]
  },
  {
   "cell_type": "markdown",
   "metadata": {},
   "source": [
    "- Now the anamolies is removed and we can see that there is a linear relationship between the `built_up_area` and the `price`. \n",
    "- Now we will drop the `super_built_up_area`, `carpet_area`, `area`, `areaWithType` and `area_bedroom_ratio`"
   ]
  },
  {
   "cell_type": "code",
   "execution_count": 315,
   "metadata": {},
   "outputs": [],
   "source": [
    "data.drop(columns= ['area', 'super_built_up_area', 'areaWithType', 'carpet_area', 'area_bedroom_ratio'], inplace= True)"
   ]
  },
  {
   "cell_type": "code",
   "execution_count": 316,
   "metadata": {},
   "outputs": [
    {
     "data": {
      "text/html": [
       "<div>\n",
       "<style scoped>\n",
       "    .dataframe tbody tr th:only-of-type {\n",
       "        vertical-align: middle;\n",
       "    }\n",
       "\n",
       "    .dataframe tbody tr th {\n",
       "        vertical-align: top;\n",
       "    }\n",
       "\n",
       "    .dataframe thead th {\n",
       "        text-align: right;\n",
       "    }\n",
       "</style>\n",
       "<table border=\"1\" class=\"dataframe\">\n",
       "  <thead>\n",
       "    <tr style=\"text-align: right;\">\n",
       "      <th></th>\n",
       "      <th>property type</th>\n",
       "      <th>society</th>\n",
       "      <th>sector</th>\n",
       "      <th>price</th>\n",
       "      <th>price_per_sq_ft</th>\n",
       "      <th>bedRoom</th>\n",
       "      <th>bathroom</th>\n",
       "      <th>balcony</th>\n",
       "      <th>floorNum</th>\n",
       "      <th>facing</th>\n",
       "      <th>agePossession</th>\n",
       "      <th>built_up_area</th>\n",
       "      <th>study room</th>\n",
       "      <th>servant room</th>\n",
       "      <th>store room</th>\n",
       "      <th>pooja room</th>\n",
       "      <th>others</th>\n",
       "      <th>furnishing_type</th>\n",
       "      <th>luxary_score</th>\n",
       "    </tr>\n",
       "  </thead>\n",
       "  <tbody>\n",
       "    <tr>\n",
       "      <th>2838</th>\n",
       "      <td>flat</td>\n",
       "      <td>sukhshanti apartment</td>\n",
       "      <td>sector 56</td>\n",
       "      <td>1.70</td>\n",
       "      <td>7727.0</td>\n",
       "      <td>3.0</td>\n",
       "      <td>3</td>\n",
       "      <td>3</td>\n",
       "      <td>4.0</td>\n",
       "      <td>south</td>\n",
       "      <td>Moderately Old</td>\n",
       "      <td>2200.0</td>\n",
       "      <td>1</td>\n",
       "      <td>0</td>\n",
       "      <td>0</td>\n",
       "      <td>0</td>\n",
       "      <td>0</td>\n",
       "      <td>0</td>\n",
       "      <td>49</td>\n",
       "    </tr>\n",
       "    <tr>\n",
       "      <th>915</th>\n",
       "      <td>flat</td>\n",
       "      <td>signature global solera</td>\n",
       "      <td>sector 107</td>\n",
       "      <td>0.29</td>\n",
       "      <td>5930.0</td>\n",
       "      <td>2.0</td>\n",
       "      <td>2</td>\n",
       "      <td>2</td>\n",
       "      <td>3.0</td>\n",
       "      <td>east</td>\n",
       "      <td>Relatively New</td>\n",
       "      <td>543.0</td>\n",
       "      <td>0</td>\n",
       "      <td>0</td>\n",
       "      <td>0</td>\n",
       "      <td>0</td>\n",
       "      <td>0</td>\n",
       "      <td>0</td>\n",
       "      <td>45</td>\n",
       "    </tr>\n",
       "    <tr>\n",
       "      <th>3311</th>\n",
       "      <td>flat</td>\n",
       "      <td>microtek greenburg</td>\n",
       "      <td>sector 86</td>\n",
       "      <td>1.65</td>\n",
       "      <td>8707.0</td>\n",
       "      <td>3.0</td>\n",
       "      <td>4</td>\n",
       "      <td>3</td>\n",
       "      <td>8.0</td>\n",
       "      <td>north-west</td>\n",
       "      <td>Relatively New</td>\n",
       "      <td>1715.0</td>\n",
       "      <td>0</td>\n",
       "      <td>1</td>\n",
       "      <td>0</td>\n",
       "      <td>0</td>\n",
       "      <td>0</td>\n",
       "      <td>0</td>\n",
       "      <td>124</td>\n",
       "    </tr>\n",
       "  </tbody>\n",
       "</table>\n",
       "</div>"
      ],
      "text/plain": [
       "     property type                  society      sector  price  \\\n",
       "2838          flat     sukhshanti apartment   sector 56   1.70   \n",
       "915           flat  signature global solera  sector 107   0.29   \n",
       "3311          flat       microtek greenburg   sector 86   1.65   \n",
       "\n",
       "      price_per_sq_ft  bedRoom  bathroom balcony  floorNum      facing  \\\n",
       "2838           7727.0      3.0         3       3       4.0       south   \n",
       "915            5930.0      2.0         2       2       3.0        east   \n",
       "3311           8707.0      3.0         4       3       8.0  north-west   \n",
       "\n",
       "       agePossession  built_up_area  study room  servant room  store room  \\\n",
       "2838  Moderately Old         2200.0           1             0           0   \n",
       "915   Relatively New          543.0           0             0           0   \n",
       "3311  Relatively New         1715.0           0             1           0   \n",
       "\n",
       "      pooja room  others  furnishing_type  luxary_score  \n",
       "2838           0       0                0            49  \n",
       "915            0       0                0            45  \n",
       "3311           0       0                0           124  "
      ]
     },
     "execution_count": 316,
     "metadata": {},
     "output_type": "execute_result"
    }
   ],
   "source": [
    "data.sample(3)"
   ]
  },
  {
   "cell_type": "code",
   "execution_count": 317,
   "metadata": {},
   "outputs": [
    {
     "data": {
      "text/plain": [
       "property type        0\n",
       "society              1\n",
       "sector               0\n",
       "price                0\n",
       "price_per_sq_ft      0\n",
       "bedRoom              0\n",
       "bathroom             0\n",
       "balcony              0\n",
       "floorNum             2\n",
       "facing             255\n",
       "agePossession        0\n",
       "built_up_area        0\n",
       "study room           0\n",
       "servant room         0\n",
       "store room           0\n",
       "pooja room           0\n",
       "others               0\n",
       "furnishing_type      0\n",
       "luxary_score         0\n",
       "dtype: int64"
      ]
     },
     "execution_count": 317,
     "metadata": {},
     "output_type": "execute_result"
    }
   ],
   "source": [
    "data.isnull().sum()"
   ]
  },
  {
   "cell_type": "markdown",
   "metadata": {},
   "source": [
    "floorNum"
   ]
  },
  {
   "cell_type": "code",
   "execution_count": 318,
   "metadata": {},
   "outputs": [
    {
     "data": {
      "text/html": [
       "<div>\n",
       "<style scoped>\n",
       "    .dataframe tbody tr th:only-of-type {\n",
       "        vertical-align: middle;\n",
       "    }\n",
       "\n",
       "    .dataframe tbody tr th {\n",
       "        vertical-align: top;\n",
       "    }\n",
       "\n",
       "    .dataframe thead th {\n",
       "        text-align: right;\n",
       "    }\n",
       "</style>\n",
       "<table border=\"1\" class=\"dataframe\">\n",
       "  <thead>\n",
       "    <tr style=\"text-align: right;\">\n",
       "      <th></th>\n",
       "      <th>property type</th>\n",
       "      <th>society</th>\n",
       "      <th>sector</th>\n",
       "      <th>price</th>\n",
       "      <th>price_per_sq_ft</th>\n",
       "      <th>bedRoom</th>\n",
       "      <th>bathroom</th>\n",
       "      <th>balcony</th>\n",
       "      <th>floorNum</th>\n",
       "      <th>facing</th>\n",
       "      <th>agePossession</th>\n",
       "      <th>built_up_area</th>\n",
       "      <th>study room</th>\n",
       "      <th>servant room</th>\n",
       "      <th>store room</th>\n",
       "      <th>pooja room</th>\n",
       "      <th>others</th>\n",
       "      <th>furnishing_type</th>\n",
       "      <th>luxary_score</th>\n",
       "    </tr>\n",
       "  </thead>\n",
       "  <tbody>\n",
       "    <tr>\n",
       "      <th>997</th>\n",
       "      <td>flat</td>\n",
       "      <td>NaN</td>\n",
       "      <td>sector 78</td>\n",
       "      <td>0.60</td>\n",
       "      <td>3692.0</td>\n",
       "      <td>2.0</td>\n",
       "      <td>2</td>\n",
       "      <td>No</td>\n",
       "      <td>NaN</td>\n",
       "      <td>na</td>\n",
       "      <td>Under Construction</td>\n",
       "      <td>1625.0</td>\n",
       "      <td>0</td>\n",
       "      <td>0</td>\n",
       "      <td>0</td>\n",
       "      <td>0</td>\n",
       "      <td>0</td>\n",
       "      <td>0</td>\n",
       "      <td>0</td>\n",
       "    </tr>\n",
       "    <tr>\n",
       "      <th>2446</th>\n",
       "      <td>flat</td>\n",
       "      <td>experion heartsong</td>\n",
       "      <td>sector 8</td>\n",
       "      <td>1.08</td>\n",
       "      <td>6150.0</td>\n",
       "      <td>3.0</td>\n",
       "      <td>3</td>\n",
       "      <td>No</td>\n",
       "      <td>NaN</td>\n",
       "      <td>na</td>\n",
       "      <td>Under Construction</td>\n",
       "      <td>1758.0</td>\n",
       "      <td>0</td>\n",
       "      <td>0</td>\n",
       "      <td>0</td>\n",
       "      <td>0</td>\n",
       "      <td>0</td>\n",
       "      <td>0</td>\n",
       "      <td>0</td>\n",
       "    </tr>\n",
       "  </tbody>\n",
       "</table>\n",
       "</div>"
      ],
      "text/plain": [
       "     property type             society     sector  price  price_per_sq_ft  \\\n",
       "997           flat                 NaN  sector 78   0.60           3692.0   \n",
       "2446          flat  experion heartsong   sector 8   1.08           6150.0   \n",
       "\n",
       "      bedRoom  bathroom balcony  floorNum facing       agePossession  \\\n",
       "997       2.0         2      No       NaN     na  Under Construction   \n",
       "2446      3.0         3      No       NaN     na  Under Construction   \n",
       "\n",
       "      built_up_area  study room  servant room  store room  pooja room  others  \\\n",
       "997          1625.0           0             0           0           0       0   \n",
       "2446         1758.0           0             0           0           0       0   \n",
       "\n",
       "      furnishing_type  luxary_score  \n",
       "997                 0             0  \n",
       "2446                0             0  "
      ]
     },
     "execution_count": 318,
     "metadata": {},
     "output_type": "execute_result"
    }
   ],
   "source": [
    "(\n",
    "    data[data \n",
    "    .floorNum \n",
    "    .isnull()]\n",
    ")"
   ]
  },
  {
   "cell_type": "markdown",
   "metadata": {},
   "source": [
    "filling these missing values with the median"
   ]
  },
  {
   "cell_type": "code",
   "execution_count": 319,
   "metadata": {},
   "outputs": [
    {
     "name": "stderr",
     "output_type": "stream",
     "text": [
      "/var/folders/_r/sndd4_s924d6z4fgsvt_v31r0000gn/T/ipykernel_15476/33995332.py:1: FutureWarning: A value is trying to be set on a copy of a DataFrame or Series through chained assignment using an inplace method.\n",
      "The behavior will change in pandas 3.0. This inplace method will never work because the intermediate object on which we are setting values always behaves as a copy.\n",
      "\n",
      "For example, when doing 'df[col].method(value, inplace=True)', try using 'df.method({col: value}, inplace=True)' or df[col] = df[col].method(value) instead, to perform the operation inplace on the original object.\n",
      "\n",
      "\n",
      "  data['floorNum'].fillna(2.0, inplace= True)\n"
     ]
    }
   ],
   "source": [
    "data['floorNum'].fillna(2.0, inplace= True)"
   ]
  },
  {
   "cell_type": "code",
   "execution_count": 320,
   "metadata": {},
   "outputs": [
    {
     "data": {
      "text/html": [
       "<div>\n",
       "<style scoped>\n",
       "    .dataframe tbody tr th:only-of-type {\n",
       "        vertical-align: middle;\n",
       "    }\n",
       "\n",
       "    .dataframe tbody tr th {\n",
       "        vertical-align: top;\n",
       "    }\n",
       "\n",
       "    .dataframe thead th {\n",
       "        text-align: right;\n",
       "    }\n",
       "</style>\n",
       "<table border=\"1\" class=\"dataframe\">\n",
       "  <thead>\n",
       "    <tr style=\"text-align: right;\">\n",
       "      <th></th>\n",
       "      <th>property type</th>\n",
       "      <th>society</th>\n",
       "      <th>sector</th>\n",
       "      <th>price</th>\n",
       "      <th>price_per_sq_ft</th>\n",
       "      <th>bedRoom</th>\n",
       "      <th>bathroom</th>\n",
       "      <th>balcony</th>\n",
       "      <th>floorNum</th>\n",
       "      <th>facing</th>\n",
       "      <th>agePossession</th>\n",
       "      <th>built_up_area</th>\n",
       "      <th>study room</th>\n",
       "      <th>servant room</th>\n",
       "      <th>store room</th>\n",
       "      <th>pooja room</th>\n",
       "      <th>others</th>\n",
       "      <th>furnishing_type</th>\n",
       "      <th>luxary_score</th>\n",
       "    </tr>\n",
       "  </thead>\n",
       "  <tbody>\n",
       "    <tr>\n",
       "      <th>2244</th>\n",
       "      <td>flat</td>\n",
       "      <td>viridian the plaza 106</td>\n",
       "      <td>sector 106</td>\n",
       "      <td>0.46</td>\n",
       "      <td>6571.0</td>\n",
       "      <td>1.0</td>\n",
       "      <td>1</td>\n",
       "      <td>1</td>\n",
       "      <td>18.0</td>\n",
       "      <td>na</td>\n",
       "      <td>New Property</td>\n",
       "      <td>778.0</td>\n",
       "      <td>0</td>\n",
       "      <td>0</td>\n",
       "      <td>0</td>\n",
       "      <td>0</td>\n",
       "      <td>0</td>\n",
       "      <td>0</td>\n",
       "      <td>104</td>\n",
       "    </tr>\n",
       "    <tr>\n",
       "      <th>2386</th>\n",
       "      <td>flat</td>\n",
       "      <td>chd avenue</td>\n",
       "      <td>sector 71</td>\n",
       "      <td>1.00</td>\n",
       "      <td>6734.0</td>\n",
       "      <td>3.0</td>\n",
       "      <td>3</td>\n",
       "      <td>3+</td>\n",
       "      <td>3.0</td>\n",
       "      <td>north</td>\n",
       "      <td>Relatively New</td>\n",
       "      <td>1344.0</td>\n",
       "      <td>0</td>\n",
       "      <td>0</td>\n",
       "      <td>0</td>\n",
       "      <td>0</td>\n",
       "      <td>0</td>\n",
       "      <td>2</td>\n",
       "      <td>7</td>\n",
       "    </tr>\n",
       "    <tr>\n",
       "      <th>1128</th>\n",
       "      <td>flat</td>\n",
       "      <td>rof ananda</td>\n",
       "      <td>sector 95</td>\n",
       "      <td>0.38</td>\n",
       "      <td>5901.0</td>\n",
       "      <td>3.0</td>\n",
       "      <td>2</td>\n",
       "      <td>1</td>\n",
       "      <td>2.0</td>\n",
       "      <td>south-east</td>\n",
       "      <td>Relatively New</td>\n",
       "      <td>716.0</td>\n",
       "      <td>0</td>\n",
       "      <td>0</td>\n",
       "      <td>0</td>\n",
       "      <td>1</td>\n",
       "      <td>0</td>\n",
       "      <td>2</td>\n",
       "      <td>66</td>\n",
       "    </tr>\n",
       "  </tbody>\n",
       "</table>\n",
       "</div>"
      ],
      "text/plain": [
       "     property type                 society      sector  price  \\\n",
       "2244          flat  viridian the plaza 106  sector 106   0.46   \n",
       "2386          flat              chd avenue   sector 71   1.00   \n",
       "1128          flat              rof ananda   sector 95   0.38   \n",
       "\n",
       "      price_per_sq_ft  bedRoom  bathroom balcony  floorNum      facing  \\\n",
       "2244           6571.0      1.0         1       1      18.0          na   \n",
       "2386           6734.0      3.0         3      3+       3.0       north   \n",
       "1128           5901.0      3.0         2       1       2.0  south-east   \n",
       "\n",
       "       agePossession  built_up_area  study room  servant room  store room  \\\n",
       "2244    New Property          778.0           0             0           0   \n",
       "2386  Relatively New         1344.0           0             0           0   \n",
       "1128  Relatively New          716.0           0             0           0   \n",
       "\n",
       "      pooja room  others  furnishing_type  luxary_score  \n",
       "2244           0       0                0           104  \n",
       "2386           0       0                2             7  \n",
       "1128           1       0                2            66  "
      ]
     },
     "execution_count": 320,
     "metadata": {},
     "output_type": "execute_result"
    }
   ],
   "source": [
    "data.sample(3)"
   ]
  },
  {
   "cell_type": "markdown",
   "metadata": {},
   "source": [
    "facing"
   ]
  },
  {
   "cell_type": "code",
   "execution_count": 321,
   "metadata": {},
   "outputs": [
    {
     "data": {
      "text/plain": [
       "np.int64(255)"
      ]
     },
     "execution_count": 321,
     "metadata": {},
     "output_type": "execute_result"
    }
   ],
   "source": [
    "data['facing'].isnull().sum()"
   ]
  },
  {
   "cell_type": "code",
   "execution_count": 322,
   "metadata": {},
   "outputs": [
    {
     "data": {
      "text/plain": [
       "facing\n",
       "na            871\n",
       "north-east    503\n",
       "east          488\n",
       "north         298\n",
       "south         203\n",
       "west          183\n",
       "north-west    160\n",
       "East          155\n",
       "North-East    145\n",
       "south-east    144\n",
       "south-west    133\n",
       "North          93\n",
       "West           60\n",
       "South-East     35\n",
       "North-West     35\n",
       "South          27\n",
       "South-West     20\n",
       "Name: count, dtype: int64"
      ]
     },
     "execution_count": 322,
     "metadata": {},
     "output_type": "execute_result"
    }
   ],
   "source": [
    "data['facing'].value_counts()"
   ]
  },
  {
   "cell_type": "code",
   "execution_count": 323,
   "metadata": {},
   "outputs": [
    {
     "name": "stderr",
     "output_type": "stream",
     "text": [
      "/var/folders/_r/sndd4_s924d6z4fgsvt_v31r0000gn/T/ipykernel_15476/891733211.py:1: FutureWarning: A value is trying to be set on a copy of a DataFrame or Series through chained assignment using an inplace method.\n",
      "The behavior will change in pandas 3.0. This inplace method will never work because the intermediate object on which we are setting values always behaves as a copy.\n",
      "\n",
      "For example, when doing 'df[col].method(value, inplace=True)', try using 'df.method({col: value}, inplace=True)' or df[col] = df[col].method(value) instead, to perform the operation inplace on the original object.\n",
      "\n",
      "\n",
      "  data['facing'].replace(\"na\", np.nan, inplace= True)\n"
     ]
    }
   ],
   "source": [
    "data['facing'].replace(\"na\", np.nan, inplace= True)"
   ]
  },
  {
   "cell_type": "code",
   "execution_count": 324,
   "metadata": {},
   "outputs": [
    {
     "data": {
      "text/plain": [
       "np.int64(1126)"
      ]
     },
     "execution_count": 324,
     "metadata": {},
     "output_type": "execute_result"
    }
   ],
   "source": [
    "data['facing'].isnull().sum()"
   ]
  },
  {
   "cell_type": "code",
   "execution_count": 325,
   "metadata": {},
   "outputs": [
    {
     "data": {
      "text/plain": [
       "<Axes: ylabel='proportion'>"
      ]
     },
     "execution_count": 325,
     "metadata": {},
     "output_type": "execute_result"
    },
    {
     "data": {
      "image/png": "[encoded data removed]",
      "text/plain": [
       "<Figure size 640x480 with 1 Axes>"
      ]
     },
     "metadata": {},
     "output_type": "display_data"
    }
   ],
   "source": [
    "data['facing'].value_counts(normalize= True).plot(kind = 'pie', autopct = \"%0.2f%%\")"
   ]
  },
  {
   "cell_type": "code",
   "execution_count": 326,
   "metadata": {},
   "outputs": [],
   "source": [
    "# dropping this column as there is 1/4th of the data which is missing\n",
    "\n",
    "data.drop(columns= 'facing', inplace= True)"
   ]
  },
  {
   "cell_type": "code",
   "execution_count": 327,
   "metadata": {},
   "outputs": [
    {
     "data": {
      "text/plain": [
       "property type      0\n",
       "society            1\n",
       "sector             0\n",
       "price              0\n",
       "price_per_sq_ft    0\n",
       "bedRoom            0\n",
       "bathroom           0\n",
       "balcony            0\n",
       "floorNum           0\n",
       "agePossession      0\n",
       "built_up_area      0\n",
       "study room         0\n",
       "servant room       0\n",
       "store room         0\n",
       "pooja room         0\n",
       "others             0\n",
       "furnishing_type    0\n",
       "luxary_score       0\n",
       "dtype: int64"
      ]
     },
     "execution_count": 327,
     "metadata": {},
     "output_type": "execute_result"
    }
   ],
   "source": [
    "data.isnull().sum()"
   ]
  },
  {
   "cell_type": "markdown",
   "metadata": {},
   "source": [
    "society"
   ]
  },
  {
   "cell_type": "code",
   "execution_count": 328,
   "metadata": {},
   "outputs": [
    {
     "data": {
      "text/plain": [
       "np.int64(1)"
      ]
     },
     "execution_count": 328,
     "metadata": {},
     "output_type": "execute_result"
    }
   ],
   "source": [
    "data.society.isnull().sum()"
   ]
  },
  {
   "cell_type": "code",
   "execution_count": 329,
   "metadata": {},
   "outputs": [],
   "source": [
    "# dropping this single row \n",
    "\n",
    "data = data[~data['society'].isnull()]"
   ]
  },
  {
   "cell_type": "code",
   "execution_count": 330,
   "metadata": {},
   "outputs": [
    {
     "data": {
      "text/plain": [
       "(3807, 18)"
      ]
     },
     "execution_count": 330,
     "metadata": {},
     "output_type": "execute_result"
    }
   ],
   "source": [
    "data.shape"
   ]
  },
  {
   "cell_type": "markdown",
   "metadata": {},
   "source": [
    "agePossession"
   ]
  },
  {
   "cell_type": "code",
   "execution_count": 331,
   "metadata": {},
   "outputs": [
    {
     "data": {
      "text/plain": [
       "agePossession\n",
       "Relatively New        1661\n",
       "New Property           609\n",
       "Moderately Old         582\n",
       "undefined              343\n",
       "Old Property           330\n",
       "Under Construction     282\n",
       "Name: count, dtype: int64"
      ]
     },
     "execution_count": 331,
     "metadata": {},
     "output_type": "execute_result"
    }
   ],
   "source": [
    "data.agePossession.value_counts()"
   ]
  },
  {
   "cell_type": "code",
   "execution_count": 332,
   "metadata": {},
   "outputs": [
    {
     "data": {
      "text/html": [
       "<div>\n",
       "<style scoped>\n",
       "    .dataframe tbody tr th:only-of-type {\n",
       "        vertical-align: middle;\n",
       "    }\n",
       "\n",
       "    .dataframe tbody tr th {\n",
       "        vertical-align: top;\n",
       "    }\n",
       "\n",
       "    .dataframe thead th {\n",
       "        text-align: right;\n",
       "    }\n",
       "</style>\n",
       "<table border=\"1\" class=\"dataframe\">\n",
       "  <thead>\n",
       "    <tr style=\"text-align: right;\">\n",
       "      <th></th>\n",
       "      <th>property type</th>\n",
       "      <th>society</th>\n",
       "      <th>sector</th>\n",
       "      <th>price</th>\n",
       "      <th>price_per_sq_ft</th>\n",
       "      <th>bedRoom</th>\n",
       "      <th>bathroom</th>\n",
       "      <th>balcony</th>\n",
       "      <th>floorNum</th>\n",
       "      <th>agePossession</th>\n",
       "      <th>built_up_area</th>\n",
       "      <th>study room</th>\n",
       "      <th>servant room</th>\n",
       "      <th>store room</th>\n",
       "      <th>pooja room</th>\n",
       "      <th>others</th>\n",
       "      <th>furnishing_type</th>\n",
       "      <th>luxary_score</th>\n",
       "    </tr>\n",
       "  </thead>\n",
       "  <tbody>\n",
       "    <tr>\n",
       "      <th>2700</th>\n",
       "      <td>flat</td>\n",
       "      <td>sare crescent parc</td>\n",
       "      <td>sector 92</td>\n",
       "      <td>0.95</td>\n",
       "      <td>5013.0</td>\n",
       "      <td>4.0</td>\n",
       "      <td>5</td>\n",
       "      <td>3+</td>\n",
       "      <td>13.0</td>\n",
       "      <td>undefined</td>\n",
       "      <td>1895.0</td>\n",
       "      <td>0</td>\n",
       "      <td>0</td>\n",
       "      <td>0</td>\n",
       "      <td>0</td>\n",
       "      <td>0</td>\n",
       "      <td>0</td>\n",
       "      <td>0</td>\n",
       "    </tr>\n",
       "    <tr>\n",
       "      <th>3155</th>\n",
       "      <td>house</td>\n",
       "      <td>independent</td>\n",
       "      <td>sector 48</td>\n",
       "      <td>0.82</td>\n",
       "      <td>3905.0</td>\n",
       "      <td>3.0</td>\n",
       "      <td>2</td>\n",
       "      <td>1</td>\n",
       "      <td>1.0</td>\n",
       "      <td>undefined</td>\n",
       "      <td>2333.0</td>\n",
       "      <td>0</td>\n",
       "      <td>0</td>\n",
       "      <td>0</td>\n",
       "      <td>0</td>\n",
       "      <td>0</td>\n",
       "      <td>0</td>\n",
       "      <td>0</td>\n",
       "    </tr>\n",
       "    <tr>\n",
       "      <th>583</th>\n",
       "      <td>flat</td>\n",
       "      <td>sare petioles</td>\n",
       "      <td>sector 92</td>\n",
       "      <td>1.30</td>\n",
       "      <td>6373.0</td>\n",
       "      <td>4.0</td>\n",
       "      <td>4</td>\n",
       "      <td>No</td>\n",
       "      <td>7.0</td>\n",
       "      <td>undefined</td>\n",
       "      <td>2040.0</td>\n",
       "      <td>0</td>\n",
       "      <td>0</td>\n",
       "      <td>0</td>\n",
       "      <td>0</td>\n",
       "      <td>0</td>\n",
       "      <td>0</td>\n",
       "      <td>0</td>\n",
       "    </tr>\n",
       "    <tr>\n",
       "      <th>1481</th>\n",
       "      <td>flat</td>\n",
       "      <td>signature global orchard avenue</td>\n",
       "      <td>sector 93</td>\n",
       "      <td>0.85</td>\n",
       "      <td>14238.0</td>\n",
       "      <td>2.0</td>\n",
       "      <td>2</td>\n",
       "      <td>No</td>\n",
       "      <td>10.0</td>\n",
       "      <td>undefined</td>\n",
       "      <td>597.0</td>\n",
       "      <td>0</td>\n",
       "      <td>0</td>\n",
       "      <td>0</td>\n",
       "      <td>0</td>\n",
       "      <td>0</td>\n",
       "      <td>0</td>\n",
       "      <td>0</td>\n",
       "    </tr>\n",
       "  </tbody>\n",
       "</table>\n",
       "</div>"
      ],
      "text/plain": [
       "     property type                          society     sector  price  \\\n",
       "2700          flat               sare crescent parc  sector 92   0.95   \n",
       "3155         house                      independent  sector 48   0.82   \n",
       "583           flat                    sare petioles  sector 92   1.30   \n",
       "1481          flat  signature global orchard avenue  sector 93   0.85   \n",
       "\n",
       "      price_per_sq_ft  bedRoom  bathroom balcony  floorNum agePossession  \\\n",
       "2700           5013.0      4.0         5      3+      13.0     undefined   \n",
       "3155           3905.0      3.0         2       1       1.0     undefined   \n",
       "583            6373.0      4.0         4      No       7.0     undefined   \n",
       "1481          14238.0      2.0         2      No      10.0     undefined   \n",
       "\n",
       "      built_up_area  study room  servant room  store room  pooja room  others  \\\n",
       "2700         1895.0           0             0           0           0       0   \n",
       "3155         2333.0           0             0           0           0       0   \n",
       "583          2040.0           0             0           0           0       0   \n",
       "1481          597.0           0             0           0           0       0   \n",
       "\n",
       "      furnishing_type  luxary_score  \n",
       "2700                0             0  \n",
       "3155                0             0  \n",
       "583                 0             0  \n",
       "1481                0             0  "
      ]
     },
     "execution_count": 332,
     "metadata": {},
     "output_type": "execute_result"
    }
   ],
   "source": [
    "(\n",
    "    data[data \n",
    "         .agePossession == 'undefined']\n",
    "         .sample(4)\n",
    ")"
   ]
  },
  {
   "cell_type": "markdown",
   "metadata": {},
   "source": [
    "- In our data we have observed that the age of the property is highly dependent on the property type and sector. \n",
    "- So we will perform statistical tests to verify this claim. "
   ]
  },
  {
   "cell_type": "code",
   "execution_count": 333,
   "metadata": {},
   "outputs": [
    {
     "data": {
      "text/plain": [
       "(2, 6)"
      ]
     },
     "execution_count": 333,
     "metadata": {},
     "output_type": "execute_result"
    }
   ],
   "source": [
    "ct = pd.crosstab(data['property type'], data['agePossession'])\n",
    "rows, cols = ct.shape\n",
    "rows, cols"
   ]
  },
  {
   "cell_type": "code",
   "execution_count": 334,
   "metadata": {},
   "outputs": [],
   "source": [
    "n = (\n",
    "    ct \n",
    "    .sum()\n",
    "    .sum()\n",
    ")"
   ]
  },
  {
   "cell_type": "code",
   "execution_count": null,
   "metadata": {},
   "outputs": [],
   "source": []
  },
  {
   "cell_type": "code",
   "execution_count": 335,
   "metadata": {},
   "outputs": [],
   "source": [
    "def cramers_v(data, var1, var2):\n",
    "    import scipy.stats\n",
    "    ct = pd.crosstab(\n",
    "        data.loc[:, var1],\n",
    "        data.loc[:, var2]\n",
    "    )\n",
    "    r, c = ct.shape\n",
    "    n = ct.sum().sum()\n",
    "    chi2, _, _, _ = scipy.stats.chi2_contingency(ct)\n",
    "    phi2 = chi2/ n \n",
    "\n",
    "\n",
    "    return np.sqrt(phi2 / min(r -1, c -1))\n",
    "\n",
    "def cramerV_heatmap(data, figsize = (12, 6), cmap = \"Blues\"):\n",
    "    cols = data.select_dtypes(include = \"O\").columns.to_list()\n",
    "\n",
    "    matrix = (\n",
    "        pd\n",
    "        .DataFrame(data = np.ones((len(cols), len(cols))))\n",
    "        .set_axis(cols, axis = 0)\n",
    "        .set_axis(cols, axis = 1)\n",
    "    )\n",
    "\n",
    "    for col1 in cols:\n",
    "        for col2 in cols:\n",
    "            if col1 != col2:\n",
    "                matrix.loc[col1, col2] = cramers_v(data, col1, col2)\n",
    "\n",
    "    mask = np.zeros_like(matrix, dtype = bool)\n",
    "    mask[np.triu_indices_from(mask)] = True \n",
    "\n",
    "    fig, ax = plt.subplots(figsize = figsize)\n",
    "\n",
    "    hm = sns.heatmap(\n",
    "        matrix, \n",
    "        cmap = cmap, \n",
    "        annot = True, \n",
    "        fmt = \".2f\", \n",
    "        square = True, \n",
    "        linewidths = 1.5, \n",
    "        \n",
    "    )"
   ]
  },
  {
   "cell_type": "code",
   "execution_count": 336,
   "metadata": {},
   "outputs": [
    {
     "data": {
      "image/png": "[encoded data removed]",
      "text/plain": [
       "<Figure size 1200x600 with 2 Axes>"
      ]
     },
     "metadata": {},
     "output_type": "display_data"
    }
   ],
   "source": [
    "cramerV_heatmap(data)"
   ]
  },
  {
   "cell_type": "markdown",
   "metadata": {},
   "source": [
    "- `agePossession` is highly dependent on the `society`, `sector` and `property_type` \n",
    "- we will use the sector to replace the undefined values in the `agePossession` column as the cardinality is less in comparison to `society` also using `sector` for impution will add some value to our data "
   ]
  },
  {
   "cell_type": "code",
   "execution_count": 337,
   "metadata": {},
   "outputs": [
    {
     "data": {
      "text/html": [
       "<div>\n",
       "<style scoped>\n",
       "    .dataframe tbody tr th:only-of-type {\n",
       "        vertical-align: middle;\n",
       "    }\n",
       "\n",
       "    .dataframe tbody tr th {\n",
       "        vertical-align: top;\n",
       "    }\n",
       "\n",
       "    .dataframe thead th {\n",
       "        text-align: right;\n",
       "    }\n",
       "</style>\n",
       "<table border=\"1\" class=\"dataframe\">\n",
       "  <thead>\n",
       "    <tr style=\"text-align: right;\">\n",
       "      <th></th>\n",
       "      <th>property type</th>\n",
       "      <th>society</th>\n",
       "      <th>sector</th>\n",
       "      <th>price</th>\n",
       "      <th>price_per_sq_ft</th>\n",
       "      <th>bedRoom</th>\n",
       "      <th>bathroom</th>\n",
       "      <th>balcony</th>\n",
       "      <th>floorNum</th>\n",
       "      <th>agePossession</th>\n",
       "      <th>built_up_area</th>\n",
       "      <th>study room</th>\n",
       "      <th>servant room</th>\n",
       "      <th>store room</th>\n",
       "      <th>pooja room</th>\n",
       "      <th>others</th>\n",
       "      <th>furnishing_type</th>\n",
       "      <th>luxary_score</th>\n",
       "    </tr>\n",
       "  </thead>\n",
       "  <tbody>\n",
       "    <tr>\n",
       "      <th>1904</th>\n",
       "      <td>flat</td>\n",
       "      <td>signature global city 92</td>\n",
       "      <td>sector 92</td>\n",
       "      <td>0.99</td>\n",
       "      <td>9074.0</td>\n",
       "      <td>3.0</td>\n",
       "      <td>2</td>\n",
       "      <td>3</td>\n",
       "      <td>1.0</td>\n",
       "      <td>Under Construction</td>\n",
       "      <td>1091.0</td>\n",
       "      <td>0</td>\n",
       "      <td>0</td>\n",
       "      <td>0</td>\n",
       "      <td>0</td>\n",
       "      <td>0</td>\n",
       "      <td>0</td>\n",
       "      <td>24</td>\n",
       "    </tr>\n",
       "    <tr>\n",
       "      <th>150</th>\n",
       "      <td>house</td>\n",
       "      <td>independent</td>\n",
       "      <td>sector 9</td>\n",
       "      <td>3.40</td>\n",
       "      <td>12938.0</td>\n",
       "      <td>9.0</td>\n",
       "      <td>9</td>\n",
       "      <td>3</td>\n",
       "      <td>3.0</td>\n",
       "      <td>Moderately Old</td>\n",
       "      <td>2628.0</td>\n",
       "      <td>0</td>\n",
       "      <td>0</td>\n",
       "      <td>0</td>\n",
       "      <td>0</td>\n",
       "      <td>0</td>\n",
       "      <td>2</td>\n",
       "      <td>61</td>\n",
       "    </tr>\n",
       "    <tr>\n",
       "      <th>930</th>\n",
       "      <td>house</td>\n",
       "      <td>independent</td>\n",
       "      <td>sector 45</td>\n",
       "      <td>10.00</td>\n",
       "      <td>30864.0</td>\n",
       "      <td>6.0</td>\n",
       "      <td>6</td>\n",
       "      <td>3+</td>\n",
       "      <td>4.0</td>\n",
       "      <td>Moderately Old</td>\n",
       "      <td>3240.0</td>\n",
       "      <td>1</td>\n",
       "      <td>1</td>\n",
       "      <td>1</td>\n",
       "      <td>1</td>\n",
       "      <td>0</td>\n",
       "      <td>2</td>\n",
       "      <td>70</td>\n",
       "    </tr>\n",
       "  </tbody>\n",
       "</table>\n",
       "</div>"
      ],
      "text/plain": [
       "     property type                   society     sector  price  \\\n",
       "1904          flat  signature global city 92  sector 92   0.99   \n",
       "150          house               independent   sector 9   3.40   \n",
       "930          house               independent  sector 45  10.00   \n",
       "\n",
       "      price_per_sq_ft  bedRoom  bathroom balcony  floorNum  \\\n",
       "1904           9074.0      3.0         2       3       1.0   \n",
       "150           12938.0      9.0         9       3       3.0   \n",
       "930           30864.0      6.0         6      3+       4.0   \n",
       "\n",
       "           agePossession  built_up_area  study room  servant room  store room  \\\n",
       "1904  Under Construction         1091.0           0             0           0   \n",
       "150       Moderately Old         2628.0           0             0           0   \n",
       "930       Moderately Old         3240.0           1             1           1   \n",
       "\n",
       "      pooja room  others  furnishing_type  luxary_score  \n",
       "1904           0       0                0            24  \n",
       "150            0       0                2            61  \n",
       "930            1       0                2            70  "
      ]
     },
     "execution_count": 337,
     "metadata": {},
     "output_type": "execute_result"
    }
   ],
   "source": [
    "data.sample(3)"
   ]
  },
  {
   "cell_type": "code",
   "execution_count": 338,
   "metadata": {},
   "outputs": [
    {
     "data": {
      "text/plain": [
       "(343, 18)"
      ]
     },
     "execution_count": 338,
     "metadata": {},
     "output_type": "execute_result"
    }
   ],
   "source": [
    "data[data['agePossession'] == 'undefined'].shape"
   ]
  },
  {
   "cell_type": "code",
   "execution_count": 339,
   "metadata": {},
   "outputs": [],
   "source": [
    "def mode_based_imputation(row):\n",
    "    if row['agePossession'] == 'undefined':\n",
    "        mode_value = data[(data['sector'] == row['sector']) & (data['property type'] == row['property type'])]['agePossession'].mode()\n",
    "\n",
    "        if not mode_value.empty:\n",
    "            return mode_value.iloc[0]\n",
    "        else:\n",
    "            return np.nan \n",
    "    else:\n",
    "        return row['agePossession']"
   ]
  },
  {
   "cell_type": "code",
   "execution_count": 340,
   "metadata": {},
   "outputs": [],
   "source": [
    "data['agePossession'] = data.apply(mode_based_imputation, axis = 1)"
   ]
  },
  {
   "cell_type": "code",
   "execution_count": 341,
   "metadata": {},
   "outputs": [
    {
     "data": {
      "text/plain": [
       "agePossession\n",
       "Relatively New        1786\n",
       "New Property           652\n",
       "Moderately Old         634\n",
       "Old Property           375\n",
       "Under Construction     304\n",
       "undefined               56\n",
       "Name: count, dtype: int64"
      ]
     },
     "execution_count": 341,
     "metadata": {},
     "output_type": "execute_result"
    }
   ],
   "source": [
    "data['agePossession'].value_counts()"
   ]
  },
  {
   "cell_type": "code",
   "execution_count": 342,
   "metadata": {},
   "outputs": [],
   "source": [
    "def mode_based_imputation1(row):\n",
    "    if row['agePossession'] == 'undefined':\n",
    "        mode_value = data[(data['sector'] == row['sector'])]['agePossession'].mode()\n",
    "\n",
    "        if not mode_value.empty:\n",
    "            return mode_value.iloc[0]\n",
    "        else:\n",
    "            return np.nan \n",
    "    else:\n",
    "        return row['agePossession']"
   ]
  },
  {
   "cell_type": "code",
   "execution_count": 343,
   "metadata": {},
   "outputs": [
    {
     "data": {
      "text/plain": [
       "agePossession\n",
       "Relatively New        1794\n",
       "New Property           653\n",
       "Moderately Old         641\n",
       "Old Property           375\n",
       "Under Construction     304\n",
       "undefined               40\n",
       "Name: count, dtype: int64"
      ]
     },
     "execution_count": 343,
     "metadata": {},
     "output_type": "execute_result"
    }
   ],
   "source": [
    "data['agePossession'] = data.apply(mode_based_imputation1, axis = 1)\n",
    "data['agePossession'].value_counts()"
   ]
  },
  {
   "cell_type": "code",
   "execution_count": 344,
   "metadata": {},
   "outputs": [],
   "source": [
    "def mode_based_imputation2(row):\n",
    "    if row['agePossession'] == 'undefined':\n",
    "        mode_value = data[(data['property type'] == row['property type'])]['agePossession'].mode()\n",
    "\n",
    "        if not mode_value.empty:\n",
    "            return mode_value.iloc[0]\n",
    "        else:\n",
    "            return np.nan \n",
    "    else:\n",
    "        return row['agePossession']"
   ]
  },
  {
   "cell_type": "code",
   "execution_count": 345,
   "metadata": {},
   "outputs": [
    {
     "data": {
      "text/plain": [
       "agePossession\n",
       "Relatively New        1799\n",
       "Moderately Old         676\n",
       "New Property           653\n",
       "Old Property           375\n",
       "Under Construction     304\n",
       "Name: count, dtype: int64"
      ]
     },
     "execution_count": 345,
     "metadata": {},
     "output_type": "execute_result"
    }
   ],
   "source": [
    "data['agePossession'] = data.apply(mode_based_imputation2, axis = 1)\n",
    "data['agePossession'].value_counts()"
   ]
  },
  {
   "cell_type": "code",
   "execution_count": 346,
   "metadata": {},
   "outputs": [
    {
     "data": {
      "text/plain": [
       "property type      0\n",
       "society            0\n",
       "sector             0\n",
       "price              0\n",
       "price_per_sq_ft    0\n",
       "bedRoom            0\n",
       "bathroom           0\n",
       "balcony            0\n",
       "floorNum           0\n",
       "agePossession      0\n",
       "built_up_area      0\n",
       "study room         0\n",
       "servant room       0\n",
       "store room         0\n",
       "pooja room         0\n",
       "others             0\n",
       "furnishing_type    0\n",
       "luxary_score       0\n",
       "dtype: int64"
      ]
     },
     "execution_count": 346,
     "metadata": {},
     "output_type": "execute_result"
    }
   ],
   "source": [
    "data.isnull().sum()"
   ]
  },
  {
   "cell_type": "markdown",
   "metadata": {},
   "source": [
    "- Now we don't have any missing values in our column"
   ]
  },
  {
   "cell_type": "code",
   "execution_count": 347,
   "metadata": {},
   "outputs": [],
   "source": [
    "dir_path = \"/Users/abhisheksaurav/Desktop/real_estate_project/Data Collection/Data/City/chandigarh/cleaned_data\"\n",
    "file_name = \"gurgaon_properties_missing_values_imputation\"\n",
    "data.to_csv(\"{}/{}.csv\".format(dir_path, file_name), index = False)"
   ]
  },
  {
   "cell_type": "code",
   "execution_count": null,
   "metadata": {},
   "outputs": [],
   "source": []
  }
 ],
 "metadata": {
  "kernelspec": {
   "display_name": "my_env",
   "language": "python",
   "name": "python3"
  },
  "language_info": {
   "codemirror_mode": {
    "name": "ipython",
    "version": 3
   },
   "file_extension": ".py",
   "mimetype": "text/x-python",
   "name": "python",
   "nbconvert_exporter": "python",
   "pygments_lexer": "ipython3",
   "version": "3.11.4"
  }
 },
 "nbformat": 4,
 "nbformat_minor": 2
}
